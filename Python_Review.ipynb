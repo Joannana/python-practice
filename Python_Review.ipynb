{
  "nbformat": 4,
  "nbformat_minor": 0,
  "metadata": {
    "colab": {
      "name": "Python Review",
      "version": "0.3.2",
      "provenance": [],
      "collapsed_sections": []
    },
    "kernelspec": {
      "name": "python3",
      "display_name": "Python 3"
    }
  },
  "cells": [
    {
      "cell_type": "code",
      "metadata": {
        "id": "JoXq_ZseCBcq",
        "colab_type": "code",
        "colab": {}
      },
      "source": [
        "def print_all_nodes(head):\n",
        "  curr = head\n",
        "  while curr:\n",
        "    print(curr.val)\n",
        "    curr = curr.next"
      ],
      "execution_count": 0,
      "outputs": []
    },
    {
      "cell_type": "code",
      "metadata": {
        "id": "i_QiUKZUSu7N",
        "colab_type": "code",
        "colab": {}
      },
      "source": [
        "class ListNode:\n",
        "  def __init__(self, data):\n",
        "    self.data = data\n",
        "    self.next = None"
      ],
      "execution_count": 0,
      "outputs": []
    },
    {
      "cell_type": "code",
      "metadata": {
        "id": "i43Fkqu2Cbwq",
        "colab_type": "code",
        "colab": {}
      },
      "source": [
        "## Search by index\n",
        "def search_by_index(head, index):\n",
        "  if head is None or index < 0:\n",
        "    return None\n",
        "  curr = head\n",
        "  for move_times in range(index):\n",
        "    curr = curr.next\n",
        "    if not curr:\n",
        "      return None\n",
        "  return curr"
      ],
      "execution_count": 0,
      "outputs": []
    },
    {
      "cell_type": "code",
      "metadata": {
        "id": "AWInQtkJCc0B",
        "colab_type": "code",
        "colab": {}
      },
      "source": [
        "## Search by value\n",
        "def search_by_value(head,value):\n",
        "  if not head:\n",
        "    return None\n",
        "  current_node = head\n",
        "  while current_node is not None:\n",
        "    if current_node.value == value:\n",
        "      return current_node\n",
        "    current_node = current_node.next\n",
        "  return None"
      ],
      "execution_count": 0,
      "outputs": []
    },
    {
      "cell_type": "code",
      "metadata": {
        "id": "MkxnW_FuVD_A",
        "colab_type": "code",
        "colab": {}
      },
      "source": [
        "## Add to index 1\n",
        "def add_to_index1(head, index, value):\n",
        "  if index < 0:\n",
        "    return head\n",
        "  if index == 0:\n",
        "    new_head = ListNode(value)\n",
        "    new_head.next = head\n",
        "    return new_head\n",
        "  else:\n",
        "    prevNode = search_by_index(head, index - 1)\n",
        "    if prevNode is None:\n",
        "      return head\n",
        "    new_node = ListNode(value)\n",
        "    new_node.next = prevNode.next\n",
        "    prevNode.next = new_node\n",
        "    return head"
      ],
      "execution_count": 0,
      "outputs": []
    },
    {
      "cell_type": "code",
      "metadata": {
        "id": "8cN39a5fVs23",
        "colab_type": "code",
        "colab": {}
      },
      "source": [
        "## Add to index 2\n",
        "def add_to_index2(head,index,val):\n",
        "  fake_head = ListNode(None)\n",
        "  fake_head.next = head\n",
        "  prevNode = search_by_index(fake_head, index)\n",
        "  if prevNode is None:\n",
        "    return fake_head.next\n",
        "  new_node = ListNode(val)\n",
        "  new_node.next = prevNode.next\n",
        "  prevNode.next = new_node\n",
        "  return fake_head.next"
      ],
      "execution_count": 0,
      "outputs": []
    },
    {
      "cell_type": "code",
      "metadata": {
        "id": "SoA1GlPoVsmr",
        "colab_type": "code",
        "colab": {}
      },
      "source": [
        "## Remove from index\n",
        "def remove_from_index(head,index):\n",
        "  fake_head = ListNode(None)\n",
        "  fake_head.next = head\n",
        "  prevNode = search_by_index(fake_head, index)\n",
        "  if prev_node is None or prev_node.next is None:\n",
        "    return fake_head.next\n",
        "  remove_node = prev_node.next\n",
        "  prev_node.next = remove_node.next\n",
        "  remove_node.next = None\n",
        "  return fake_head.next"
      ],
      "execution_count": 0,
      "outputs": []
    },
    {
      "cell_type": "code",
      "metadata": {
        "id": "IFUMtgDoXLdu",
        "colab_type": "code",
        "colab": {}
      },
      "source": [
        "## Merge Two Sorted Linked Lists\n",
        "def merge(head1, head2):\n",
        "  fake_head = ListNode(None)\n",
        "  prev = fake_head\n",
        "  while head1 and head2:\n",
        "    if head1.value < head2.value:\n",
        "      prev.next = head1\n",
        "      head1 = head1.next\n",
        "    else:\n",
        "      prev.next = head2\n",
        "      head2 = head2.next\n",
        "    prev = prev.next\n",
        "  if head1 is not None:\n",
        "    prev.next = head1\n",
        "  else:\n",
        "    prev.next = head2\n",
        "  return fake_head.next"
      ],
      "execution_count": 0,
      "outputs": []
    },
    {
      "cell_type": "code",
      "metadata": {
        "id": "DmuXtK2dcEK0",
        "colab_type": "code",
        "outputId": "cc42cce8-6c50-4a40-eeff-4f7bf919a441",
        "colab": {
          "base_uri": "https://localhost:8080/",
          "height": 35
        }
      },
      "source": [
        "## Find middle node in a singly linked list\n",
        "## Solution 1: two pass\n",
        "'''\n",
        "第一遍pass: get length\n",
        "第二遍pass: search by length/2\n",
        "\n",
        "优点：很直接\n",
        "缺点：走两遍\n",
        "\n",
        "time complexity: O(2n)\n",
        "\n",
        "'''\n"
      ],
      "execution_count": 0,
      "outputs": [
        {
          "output_type": "execute_result",
          "data": {
            "text/plain": [
              "'\\n第一遍pass: get length\\n第二遍pass: search by length/2\\n\\n优点：很直接\\n缺点：走两遍\\n\\ntime complexity: O(2n)\\n\\n'"
            ]
          },
          "metadata": {
            "tags": []
          },
          "execution_count": 14
        }
      ]
    },
    {
      "cell_type": "code",
      "metadata": {
        "id": "B02UjAFJczlH",
        "colab_type": "code",
        "colab": {}
      },
      "source": [
        "## Find middle node in a singly linked list\n",
        "## Solution 2: 快慢指针，追及问题\n",
        "def findMiddle(head)\n",
        "  slow = fast = head\n",
        "  while fast and fast.next:\n",
        "    slow = slow.next\n",
        "    fast = fast.next.next\n",
        "  return slow"
      ],
      "execution_count": 0,
      "outputs": []
    },
    {
      "cell_type": "code",
      "metadata": {
        "id": "ZlLSXxI0ecmZ",
        "colab_type": "code",
        "colab": {}
      },
      "source": [
        "## Merge Sort\n",
        "class ListNode(object):\n",
        "  def __init__(self,x):\n",
        "    self.val = x\n",
        "    self.next = None\n",
        "\n",
        "class Solution(object):\n",
        "  def mergeSort(self,head):\n",
        "    if not head or not head.next:\n",
        "      return head\n",
        "    one, two = self.splitInHalf(head)\n",
        "    one = self.mergeSort(one)\n",
        "    two = self.mergeSort(two)\n",
        "    return self.merge(one,two)\n",
        "  \n",
        "  def splitInHalf(self,head):\n",
        "    slow = fast = head\n",
        "    prev = slow\n",
        "    while fast and fast.next:\n",
        "      prev = slow\n",
        "      slow = slow.next\n",
        "      fast = fast.next.next\n",
        "    right_part = prev.next\n",
        "    prev.next = None\n",
        "    return head, right_part\n",
        "  \n",
        "  def merge(self,one,two):\n",
        "    prev = ListNode(None)\n",
        "    curr = prev\n",
        "    while one and two:\n",
        "      if one.val < two.val:\n",
        "        curr.next = one\n",
        "        one = one.next\n",
        "      else:\n",
        "        curr.next = two\n",
        "        two = two.next\n",
        "      curr = curr.next\n",
        "    if one:\n",
        "      curr.next = one\n",
        "    else:\n",
        "      curr.next = two\n",
        "    return prev. next\n",
        "  \n",
        "  '''\n",
        "  Time: O(nlogn)\n",
        "  Space: O(logn)\n",
        "  '''"
      ],
      "execution_count": 0,
      "outputs": []
    },
    {
      "cell_type": "code",
      "metadata": {
        "id": "bih2AOF1ecI7",
        "colab_type": "code",
        "colab": {}
      },
      "source": [
        "## Selection Sort\n",
        "class Solution(object):\n",
        "  def selectionSort(self,head):\n",
        "    fake_head =  ListNode(None)\n",
        "    fake_head.next = head\n",
        "    tail = fake_head\n",
        "    while tail.next:\n",
        "      prev,curr = tail, tail.next\n",
        "      min_node, min_node_prev = curr, prev\n",
        "      while curr:\n",
        "        if curr.val < min_node.val:\n",
        "          min_node, min_node_prev = curr, prev\n",
        "        prev, curr = curr, curr.next\n",
        "      min_node_prev.next = min_node.next\n",
        "      min_node.next = tail.next\n",
        "      tail.next = min_node\n",
        "      tail = tail.next\n",
        "    return fake_head.next\n",
        "\n",
        "'''\n",
        "Time: O(n^2)\n",
        "Space: O(1)\n",
        "'''"
      ],
      "execution_count": 0,
      "outputs": []
    }
  ]
}