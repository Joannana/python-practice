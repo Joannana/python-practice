{
  "nbformat": 4,
  "nbformat_minor": 0,
  "metadata": {
    "colab": {
      "name": "Amazon Prime Video Data",
      "provenance": [],
      "collapsed_sections": [
        "RqBowKcOJEZr",
        "oPwjF0JUKyjd",
        "5rDztAWCNTNq",
        "mXkaf9Q-MFyW",
        "kZZ6sSKHOXw3",
        "4CmLAtswW7xc",
        "SSKMsu2vnOii",
        "5ephxLmk--6W",
        "TAH8s4c6nqvE",
        "6vPq0VdFo0Ij",
        "CG7LaXrSpnNw"
      ],
      "include_colab_link": true
    },
    "kernelspec": {
      "name": "python3",
      "display_name": "Python 3"
    }
  },
  "cells": [
    {
      "cell_type": "markdown",
      "metadata": {
        "id": "view-in-github",
        "colab_type": "text"
      },
      "source": [
        "<a href=\"https://colab.research.google.com/github/Joannana/python-practice/blob/master/Amazon_Prime_Video_Data.ipynb\" target=\"_parent\"><img src=\"https://colab.research.google.com/assets/colab-badge.svg\" alt=\"Open In Colab\"/></a>"
      ]
    },
    {
      "cell_type": "markdown",
      "metadata": {
        "id": "AvdAWQkp58A2",
        "colab_type": "text"
      },
      "source": [
        "###Amazon Prime Video\n",
        "\n",
        "\n",
        "---\n",
        "\n",
        "\n",
        "There are about 4000+ rows and 16 columns. Cvt_per_day is a measure on how much a movie is consumed by the audiences per day. Higher number means the movie is more popular on our platform.\n",
        "The following are the descriptions of the columns:\n",
        "Video_id\t:\tA unique id for a movie\n",
        "\n",
        "Cvt_per_day\t:\tCumulated view time per day\n",
        "\n",
        "weighted_categorical_position\t:\tAverage vertical positions on the home page that the movie was placed\n",
        "\n",
        "weighted_horizontal_poition\t:\tAverage horizontal positions on the home page that the movie was placed\n",
        "\n",
        "genres\t:\tgenres of the movie\n",
        "\n",
        "release_year\t:\tthe year the movie was released\n",
        "\n",
        "imdb_votes\t:\tthe number of votes on IMDB, typically higher the votes the better\n",
        "\n",
        "budget\t:\tbudget of the movie production, typically the higher the better\n",
        "\n",
        "boxoffice\t:\tgross box office in US as updated on IMDB, typically the higher the better\n",
        "\n",
        "imdb_rating\t:\tratings on IMDB\n",
        "\n",
        "duration_in_mins\t:\tHow long is the content in minutes\n",
        "\n",
        "mpaa\t:\tMPAA ratings\n",
        "\n",
        "awards\t:\tTVPG ratings\n",
        "\n",
        "Import_id\t:\tContent partners\n",
        "\n",
        "Metacritic Score\t:\tMetacritic score on IMDB page. Typically, the higher the better\n",
        "\n",
        "Star_cateogry\t:\tA score to measure how popular the actor/actress are associated with the movie\n",
        "\n",
        "Questions:\n",
        "A.\tBuild a prediction model to predict whether a movie is going to perform well on our platform (cvt_per_day) based on the information in the dataset.\n",
        "1.\tWhat are the important features?\n",
        "2.\tHow do you weigh in the position bias – When a movie is placed at the first position, it naturally has higher cvt because more viewers will click on it \n",
        "B.\tWe are curious to hear about (1) how you dealt with missing values, (2) how you selected, transformed, or engineered new features, (3) the type of model used, and why, and (4) any particular insights or other thoughts you have on this dataset.\n",
        "Instructions:\n",
        "A.\tPlease attach both your write-up and your code in one document that is easy to understand.\n",
        "B.\tIncluding visualization in your write-up is highly recommended.\n",
        "C.\tYou are free to use whatever tools you are most comfortable with to work through the analysis.\n",
        "\n",
        "You might want to start your investigation of missing data by finding out whether you have informative or non-informative missings. The first category is produced by random data loss; in this case, the observations with missing values are no different from the ones with complete data. As for informative missing data, this one tells you something about your observation. A simple example is a customer record with a missing contract cancellation date meaning that this customer's contract has not been cancelled so far. You usually don't want to fill in informative missings with a mean or a median, but you may want to generate a separate feature from them.\n",
        "\n"
      ]
    },
    {
      "cell_type": "markdown",
      "metadata": {
        "id": "hrJwsmAX_uny",
        "colab_type": "text"
      },
      "source": [
        "###1. Data Preparation"
      ]
    },
    {
      "cell_type": "code",
      "metadata": {
        "id": "F3sP9byb6cED",
        "colab_type": "code",
        "colab": {}
      },
      "source": [
        "import numpy as np\n",
        "import pandas as pd\n",
        "import matplotlib.pyplot as plt\n",
        "import seaborn as sns\n",
        "import sklearn as sl\n",
        "from sklearn import preprocessing\n",
        "from sklearn.model_selection import train_test_split"
      ],
      "execution_count": 0,
      "outputs": []
    },
    {
      "cell_type": "markdown",
      "metadata": {
        "id": "umIybAjPjicb",
        "colab_type": "text"
      },
      "source": [
        "###1.1. Load Data"
      ]
    },
    {
      "cell_type": "markdown",
      "metadata": {
        "id": "RP8i-g2ZKsg9",
        "colab_type": "text"
      },
      "source": [
        "####1.1.1. Load Data from Google Drive"
      ]
    },
    {
      "cell_type": "code",
      "metadata": {
        "id": "xWtdFNAY__74",
        "colab_type": "code",
        "colab": {}
      },
      "source": [
        "# Read data from Google Drive (recommend)\n",
        "# step 1: change your csv file in Drive as Anyone with the link can view\n",
        "\n",
        "# https://drive.google.com/open?id=11HugdL45YN_iJt-hpdBm3OByetAvlIk-\n",
        "\n",
        "file_id='11HugdL45YN_iJt-hpdBm3OByetAvlIk-'\n",
        "link='https://drive.google.com/uc?export=download&id={FILE_ID}'\n",
        "csv_url=link.format(FILE_ID=file_id)\n",
        "data = pd.read_csv(csv_url)\n"
      ],
      "execution_count": 0,
      "outputs": []
    },
    {
      "cell_type": "code",
      "metadata": {
        "id": "N7KmUz4tJyXf",
        "colab_type": "code",
        "outputId": "9e34cbfb-093d-40bb-e2a9-1feaa1d584fa",
        "colab": {
          "base_uri": "https://localhost:8080/",
          "height": 295
        }
      },
      "source": [
        "data.head()"
      ],
      "execution_count": 0,
      "outputs": [
        {
          "output_type": "execute_result",
          "data": {
            "text/html": [
              "<div>\n",
              "<style scoped>\n",
              "    .dataframe tbody tr th:only-of-type {\n",
              "        vertical-align: middle;\n",
              "    }\n",
              "\n",
              "    .dataframe tbody tr th {\n",
              "        vertical-align: top;\n",
              "    }\n",
              "\n",
              "    .dataframe thead th {\n",
              "        text-align: right;\n",
              "    }\n",
              "</style>\n",
              "<table border=\"1\" class=\"dataframe\">\n",
              "  <thead>\n",
              "    <tr style=\"text-align: right;\">\n",
              "      <th></th>\n",
              "      <th>video_id</th>\n",
              "      <th>cvt_per_day</th>\n",
              "      <th>weighted_categorical_position</th>\n",
              "      <th>weighted_horizontal_poition</th>\n",
              "      <th>import_id</th>\n",
              "      <th>release_year</th>\n",
              "      <th>genres</th>\n",
              "      <th>imdb_votes</th>\n",
              "      <th>budget</th>\n",
              "      <th>boxoffice</th>\n",
              "      <th>imdb_rating</th>\n",
              "      <th>duration_in_mins</th>\n",
              "      <th>metacritic_score</th>\n",
              "      <th>awards</th>\n",
              "      <th>mpaa</th>\n",
              "      <th>star_category</th>\n",
              "    </tr>\n",
              "  </thead>\n",
              "  <tbody>\n",
              "    <tr>\n",
              "      <th>0</th>\n",
              "      <td>385504</td>\n",
              "      <td>307127.605608</td>\n",
              "      <td>1</td>\n",
              "      <td>3</td>\n",
              "      <td>lionsgate</td>\n",
              "      <td>2013</td>\n",
              "      <td>Action,Thriller,Drama</td>\n",
              "      <td>69614</td>\n",
              "      <td>15000000</td>\n",
              "      <td>42930462</td>\n",
              "      <td>6.5</td>\n",
              "      <td>112.301017</td>\n",
              "      <td>51</td>\n",
              "      <td>other award</td>\n",
              "      <td>PG-13</td>\n",
              "      <td>1.710000</td>\n",
              "    </tr>\n",
              "    <tr>\n",
              "      <th>1</th>\n",
              "      <td>300175</td>\n",
              "      <td>270338.426375</td>\n",
              "      <td>1</td>\n",
              "      <td>3</td>\n",
              "      <td>lionsgate</td>\n",
              "      <td>2013</td>\n",
              "      <td>Comedy,Crime,Thriller</td>\n",
              "      <td>46705</td>\n",
              "      <td>15000000</td>\n",
              "      <td>3301046</td>\n",
              "      <td>6.5</td>\n",
              "      <td>94.983250</td>\n",
              "      <td>41</td>\n",
              "      <td>no award</td>\n",
              "      <td>R</td>\n",
              "      <td>3.250000</td>\n",
              "    </tr>\n",
              "    <tr>\n",
              "      <th>2</th>\n",
              "      <td>361899</td>\n",
              "      <td>256165.867446</td>\n",
              "      <td>1</td>\n",
              "      <td>3</td>\n",
              "      <td>other</td>\n",
              "      <td>2012</td>\n",
              "      <td>Crime,Drama</td>\n",
              "      <td>197596</td>\n",
              "      <td>26000000</td>\n",
              "      <td>37397291</td>\n",
              "      <td>7.3</td>\n",
              "      <td>115.763675</td>\n",
              "      <td>58</td>\n",
              "      <td>other award</td>\n",
              "      <td>R</td>\n",
              "      <td>2.646667</td>\n",
              "    </tr>\n",
              "    <tr>\n",
              "      <th>3</th>\n",
              "      <td>308314</td>\n",
              "      <td>196622.720996</td>\n",
              "      <td>3</td>\n",
              "      <td>4</td>\n",
              "      <td>lionsgate</td>\n",
              "      <td>2008</td>\n",
              "      <td>Thriller,Drama,War,Documentary,Mystery,Action</td>\n",
              "      <td>356339</td>\n",
              "      <td>15000000</td>\n",
              "      <td>15700000</td>\n",
              "      <td>7.6</td>\n",
              "      <td>130.703583</td>\n",
              "      <td>94</td>\n",
              "      <td>Oscar</td>\n",
              "      <td>R</td>\n",
              "      <td>1.666667</td>\n",
              "    </tr>\n",
              "    <tr>\n",
              "      <th>4</th>\n",
              "      <td>307201</td>\n",
              "      <td>159841.652064</td>\n",
              "      <td>1</td>\n",
              "      <td>3</td>\n",
              "      <td>lionsgate</td>\n",
              "      <td>2013</td>\n",
              "      <td>Crime,Thriller,Mystery,Documentary</td>\n",
              "      <td>46720</td>\n",
              "      <td>27220000</td>\n",
              "      <td>8551228</td>\n",
              "      <td>6.4</td>\n",
              "      <td>105.545533</td>\n",
              "      <td>37</td>\n",
              "      <td>other award</td>\n",
              "      <td>R</td>\n",
              "      <td>3.066667</td>\n",
              "    </tr>\n",
              "  </tbody>\n",
              "</table>\n",
              "</div>"
            ],
            "text/plain": [
              "   video_id    cvt_per_day  ...   mpaa  star_category\n",
              "0    385504  307127.605608  ...  PG-13       1.710000\n",
              "1    300175  270338.426375  ...      R       3.250000\n",
              "2    361899  256165.867446  ...      R       2.646667\n",
              "3    308314  196622.720996  ...      R       1.666667\n",
              "4    307201  159841.652064  ...      R       3.066667\n",
              "\n",
              "[5 rows x 16 columns]"
            ]
          },
          "metadata": {
            "tags": []
          },
          "execution_count": 7
        }
      ]
    },
    {
      "cell_type": "code",
      "metadata": {
        "id": "YQiq1szmKnu_",
        "colab_type": "code",
        "outputId": "32242ead-98e5-4c8f-baac-4311bb8e345a",
        "colab": {
          "base_uri": "https://localhost:8080/",
          "height": 320
        }
      },
      "source": [
        "data.describe()"
      ],
      "execution_count": 0,
      "outputs": [
        {
          "output_type": "execute_result",
          "data": {
            "text/html": [
              "<div>\n",
              "<style scoped>\n",
              "    .dataframe tbody tr th:only-of-type {\n",
              "        vertical-align: middle;\n",
              "    }\n",
              "\n",
              "    .dataframe tbody tr th {\n",
              "        vertical-align: top;\n",
              "    }\n",
              "\n",
              "    .dataframe thead th {\n",
              "        text-align: right;\n",
              "    }\n",
              "</style>\n",
              "<table border=\"1\" class=\"dataframe\">\n",
              "  <thead>\n",
              "    <tr style=\"text-align: right;\">\n",
              "      <th></th>\n",
              "      <th>video_id</th>\n",
              "      <th>cvt_per_day</th>\n",
              "      <th>weighted_categorical_position</th>\n",
              "      <th>weighted_horizontal_poition</th>\n",
              "      <th>release_year</th>\n",
              "      <th>imdb_votes</th>\n",
              "      <th>budget</th>\n",
              "      <th>boxoffice</th>\n",
              "      <th>imdb_rating</th>\n",
              "      <th>duration_in_mins</th>\n",
              "      <th>metacritic_score</th>\n",
              "      <th>star_category</th>\n",
              "    </tr>\n",
              "  </thead>\n",
              "  <tbody>\n",
              "    <tr>\n",
              "      <th>count</th>\n",
              "      <td>4226.000000</td>\n",
              "      <td>4226.000000</td>\n",
              "      <td>4226.000000</td>\n",
              "      <td>4226.000000</td>\n",
              "      <td>4226.000000</td>\n",
              "      <td>4226.000000</td>\n",
              "      <td>4.226000e+03</td>\n",
              "      <td>4.226000e+03</td>\n",
              "      <td>4226.000000</td>\n",
              "      <td>4226.000000</td>\n",
              "      <td>4226.000000</td>\n",
              "      <td>4226.000000</td>\n",
              "    </tr>\n",
              "    <tr>\n",
              "      <th>mean</th>\n",
              "      <td>280371.162565</td>\n",
              "      <td>4218.630239</td>\n",
              "      <td>7.782537</td>\n",
              "      <td>28.103644</td>\n",
              "      <td>2001.056791</td>\n",
              "      <td>6462.924042</td>\n",
              "      <td>2.150743e+06</td>\n",
              "      <td>2.536338e+06</td>\n",
              "      <td>5.257099</td>\n",
              "      <td>89.556123</td>\n",
              "      <td>15.973734</td>\n",
              "      <td>0.954651</td>\n",
              "    </tr>\n",
              "    <tr>\n",
              "      <th>std</th>\n",
              "      <td>112640.127822</td>\n",
              "      <td>13036.079964</td>\n",
              "      <td>6.134183</td>\n",
              "      <td>11.863649</td>\n",
              "      <td>17.496849</td>\n",
              "      <td>31596.006790</td>\n",
              "      <td>7.176604e+06</td>\n",
              "      <td>8.243516e+06</td>\n",
              "      <td>2.122810</td>\n",
              "      <td>21.086183</td>\n",
              "      <td>26.205217</td>\n",
              "      <td>0.955045</td>\n",
              "    </tr>\n",
              "    <tr>\n",
              "      <th>min</th>\n",
              "      <td>7909.000000</td>\n",
              "      <td>2.187625</td>\n",
              "      <td>1.000000</td>\n",
              "      <td>1.000000</td>\n",
              "      <td>1916.000000</td>\n",
              "      <td>0.000000</td>\n",
              "      <td>0.000000e+00</td>\n",
              "      <td>0.000000e+00</td>\n",
              "      <td>0.000000</td>\n",
              "      <td>4.037250</td>\n",
              "      <td>0.000000</td>\n",
              "      <td>0.000000</td>\n",
              "    </tr>\n",
              "    <tr>\n",
              "      <th>25%</th>\n",
              "      <td>285104.250000</td>\n",
              "      <td>351.168776</td>\n",
              "      <td>4.000000</td>\n",
              "      <td>20.000000</td>\n",
              "      <td>1998.000000</td>\n",
              "      <td>81.000000</td>\n",
              "      <td>0.000000e+00</td>\n",
              "      <td>0.000000e+00</td>\n",
              "      <td>4.300000</td>\n",
              "      <td>82.601712</td>\n",
              "      <td>0.000000</td>\n",
              "      <td>0.000000</td>\n",
              "    </tr>\n",
              "    <tr>\n",
              "      <th>50%</th>\n",
              "      <td>313891.500000</td>\n",
              "      <td>1193.499989</td>\n",
              "      <td>6.000000</td>\n",
              "      <td>28.000000</td>\n",
              "      <td>2008.000000</td>\n",
              "      <td>535.000000</td>\n",
              "      <td>0.000000e+00</td>\n",
              "      <td>0.000000e+00</td>\n",
              "      <td>5.800000</td>\n",
              "      <td>90.730308</td>\n",
              "      <td>0.000000</td>\n",
              "      <td>1.000000</td>\n",
              "    </tr>\n",
              "    <tr>\n",
              "      <th>75%</th>\n",
              "      <td>349345.750000</td>\n",
              "      <td>3356.788816</td>\n",
              "      <td>9.000000</td>\n",
              "      <td>36.000000</td>\n",
              "      <td>2012.000000</td>\n",
              "      <td>3053.000000</td>\n",
              "      <td>1.500000e+06</td>\n",
              "      <td>0.000000e+00</td>\n",
              "      <td>6.800000</td>\n",
              "      <td>99.500312</td>\n",
              "      <td>41.000000</td>\n",
              "      <td>1.666667</td>\n",
              "    </tr>\n",
              "    <tr>\n",
              "      <th>max</th>\n",
              "      <td>394880.000000</td>\n",
              "      <td>307127.605608</td>\n",
              "      <td>41.000000</td>\n",
              "      <td>70.000000</td>\n",
              "      <td>2017.000000</td>\n",
              "      <td>948630.000000</td>\n",
              "      <td>1.070000e+08</td>\n",
              "      <td>1.842088e+08</td>\n",
              "      <td>10.000000</td>\n",
              "      <td>246.016767</td>\n",
              "      <td>100.000000</td>\n",
              "      <td>4.000000</td>\n",
              "    </tr>\n",
              "  </tbody>\n",
              "</table>\n",
              "</div>"
            ],
            "text/plain": [
              "            video_id    cvt_per_day  ...  metacritic_score  star_category\n",
              "count    4226.000000    4226.000000  ...       4226.000000    4226.000000\n",
              "mean   280371.162565    4218.630239  ...         15.973734       0.954651\n",
              "std    112640.127822   13036.079964  ...         26.205217       0.955045\n",
              "min      7909.000000       2.187625  ...          0.000000       0.000000\n",
              "25%    285104.250000     351.168776  ...          0.000000       0.000000\n",
              "50%    313891.500000    1193.499989  ...          0.000000       1.000000\n",
              "75%    349345.750000    3356.788816  ...         41.000000       1.666667\n",
              "max    394880.000000  307127.605608  ...        100.000000       4.000000\n",
              "\n",
              "[8 rows x 12 columns]"
            ]
          },
          "metadata": {
            "tags": []
          },
          "execution_count": 8
        }
      ]
    },
    {
      "cell_type": "markdown",
      "metadata": {
        "id": "y3pl3wGiKy9R",
        "colab_type": "text"
      },
      "source": [
        "####1.1.2. Load Data from URL"
      ]
    },
    {
      "cell_type": "code",
      "metadata": {
        "id": "Xw1wVG9gK80g",
        "colab_type": "code",
        "outputId": "cba1f013-09ef-44c5-d690-de881be6851e",
        "colab": {
          "base_uri": "https://localhost:8080/",
          "height": 54
        }
      },
      "source": [
        "# read data from URL\n",
        "\n",
        "'''\n",
        "iris = 'http://archive.ics.uci.edu/ml/machine-learning-databases/iris/iris.data'\n",
        "df_iris = pd.read_csv(iris, sep=',', header=None)\n",
        "print(df_iris.head())\n",
        "\n",
        "'''\n"
      ],
      "execution_count": 0,
      "outputs": [
        {
          "output_type": "execute_result",
          "data": {
            "text/plain": [
              "\"\\niris = 'http://archive.ics.uci.edu/ml/machine-learning-databases/iris/iris.data'\\ndf_iris = pd.read_csv(iris, sep=',', header=None)\\nprint(df_iris.head())\\n\\n\""
            ]
          },
          "metadata": {
            "tags": []
          },
          "execution_count": 9
        }
      ]
    },
    {
      "cell_type": "markdown",
      "metadata": {
        "id": "Ng9xmhzwLGtg",
        "colab_type": "text"
      },
      "source": [
        "####1.1.3. Load Data from Github Link"
      ]
    },
    {
      "cell_type": "code",
      "metadata": {
        "id": "fElwNUS5LMjl",
        "colab_type": "code",
        "outputId": "e4e242ec-945c-40db-f013-74e8d9f0a74d",
        "colab": {
          "base_uri": "https://localhost:8080/",
          "height": 54
        }
      },
      "source": [
        "'''\n",
        "\n",
        "import pandas as pd\n",
        "import io\n",
        "import requests\n",
        "url=\"https://gist.githubusercontent.com/curran/a08a1080b88344b0c8a7/raw/d546eaee765268bf2f487608c537c05e22e4b221/iris.csv\"\n",
        "c=pd.read_csv(url)\n",
        "\n",
        "'''"
      ],
      "execution_count": 0,
      "outputs": [
        {
          "output_type": "execute_result",
          "data": {
            "text/plain": [
              "'\\n\\nimport pandas as pd\\nimport io\\nimport requests\\nurl=\"https://gist.githubusercontent.com/curran/a08a1080b88344b0c8a7/raw/d546eaee765268bf2f487608c537c05e22e4b221/iris.csv\"\\nc=pd.read_csv(url)\\n\\n'"
            ]
          },
          "metadata": {
            "tags": []
          },
          "execution_count": 10
        }
      ]
    },
    {
      "cell_type": "markdown",
      "metadata": {
        "id": "RT5RRO8xLZAh",
        "colab_type": "text"
      },
      "source": [
        "####1.1.4 Load Data from Local File"
      ]
    },
    {
      "cell_type": "code",
      "metadata": {
        "id": "VpeKQADOLfTu",
        "colab_type": "code",
        "outputId": "d16512fb-ed64-42f7-c8f0-f556eac45c79",
        "colab": {
          "base_uri": "https://localhost:8080/",
          "height": 34
        }
      },
      "source": [
        "'''\n",
        "import pandas as pd\n",
        "# read data from csv file\n",
        "# pd.read_csv(\"../data_folder/data.csv\")\n",
        "\n",
        "'''"
      ],
      "execution_count": 0,
      "outputs": [
        {
          "output_type": "execute_result",
          "data": {
            "text/plain": [
              "'\\nimport pandas as pd\\n# read data from csv file\\n# pd.read_csv(\"../data_folder/data.csv\")\\n\\n'"
            ]
          },
          "metadata": {
            "tags": []
          },
          "execution_count": 11
        }
      ]
    },
    {
      "cell_type": "markdown",
      "metadata": {
        "id": "PrthFKtQC2mx",
        "colab_type": "text"
      },
      "source": [
        "###1.2. Data Exploration"
      ]
    },
    {
      "cell_type": "markdown",
      "metadata": {
        "id": "RqBowKcOJEZr",
        "colab_type": "text"
      },
      "source": [
        "####1.2.1. Check Missing Information"
      ]
    },
    {
      "cell_type": "code",
      "metadata": {
        "id": "I_MI7DImEeEm",
        "colab_type": "code",
        "outputId": "2cea4c5f-752e-437f-a1a2-7008be8eaed5",
        "colab": {
          "base_uri": "https://localhost:8080/"
        }
      },
      "source": [
        "data.shape # size of dataset"
      ],
      "execution_count": 0,
      "outputs": [
        {
          "output_type": "execute_result",
          "data": {
            "text/plain": [
              "(4226, 16)"
            ]
          },
          "metadata": {
            "tags": []
          },
          "execution_count": 12
        }
      ]
    },
    {
      "cell_type": "code",
      "metadata": {
        "id": "NZYUWVM_JtS_",
        "colab_type": "code",
        "outputId": "440830b4-4947-41af-e52d-8fa6d6f6a313",
        "colab": {
          "base_uri": "https://localhost:8080/"
        }
      },
      "source": [
        "data.info()  #the overview information for the dataframe"
      ],
      "execution_count": 0,
      "outputs": [
        {
          "output_type": "stream",
          "text": [
            "<class 'pandas.core.frame.DataFrame'>\n",
            "RangeIndex: 4226 entries, 0 to 4225\n",
            "Data columns (total 16 columns):\n",
            "video_id                         4226 non-null int64\n",
            "cvt_per_day                      4226 non-null float64\n",
            "weighted_categorical_position    4226 non-null int64\n",
            "weighted_horizontal_poition      4226 non-null int64\n",
            "import_id                        4226 non-null object\n",
            "release_year                     4226 non-null int64\n",
            "genres                           4226 non-null object\n",
            "imdb_votes                       4226 non-null int64\n",
            "budget                           4226 non-null int64\n",
            "boxoffice                        4226 non-null int64\n",
            "imdb_rating                      4226 non-null float64\n",
            "duration_in_mins                 4226 non-null float64\n",
            "metacritic_score                 4226 non-null int64\n",
            "awards                           4226 non-null object\n",
            "mpaa                             4226 non-null object\n",
            "star_category                    4226 non-null float64\n",
            "dtypes: float64(4), int64(8), object(4)\n",
            "memory usage: 528.3+ KB\n"
          ],
          "name": "stdout"
        }
      ]
    },
    {
      "cell_type": "markdown",
      "metadata": {
        "id": "hreL5bxXEdyU",
        "colab_type": "text"
      },
      "source": [
        "The data.info() results reveal that there is no missing cell in this dataset."
      ]
    },
    {
      "cell_type": "code",
      "metadata": {
        "id": "yk17F3UrKE0s",
        "colab_type": "code",
        "outputId": "cc6c6cfc-a09e-40f7-d7af-cac76d00fe15",
        "colab": {
          "base_uri": "https://localhost:8080/"
        }
      },
      "source": [
        "data.isnull().sum() # The number of rows with NaN for each column"
      ],
      "execution_count": 0,
      "outputs": [
        {
          "output_type": "execute_result",
          "data": {
            "text/plain": [
              "video_id                         0\n",
              "cvt_per_day                      0\n",
              "weighted_categorical_position    0\n",
              "weighted_horizontal_poition      0\n",
              "import_id                        0\n",
              "release_year                     0\n",
              "genres                           0\n",
              "imdb_votes                       0\n",
              "budget                           0\n",
              "boxoffice                        0\n",
              "imdb_rating                      0\n",
              "duration_in_mins                 0\n",
              "metacritic_score                 0\n",
              "awards                           0\n",
              "mpaa                             0\n",
              "star_category                    0\n",
              "dtype: int64"
            ]
          },
          "metadata": {
            "tags": []
          },
          "execution_count": 14
        }
      ]
    },
    {
      "cell_type": "code",
      "metadata": {
        "id": "a3jAA1oLJWPX",
        "colab_type": "code",
        "outputId": "ba44b4c1-bba4-4200-abfd-9eb53d77bb45",
        "colab": {
          "base_uri": "https://localhost:8080/"
        }
      },
      "source": [
        "data.describe(percentiles = [0.1,0.25,0.5,0.75,0.9])"
      ],
      "execution_count": 0,
      "outputs": [
        {
          "output_type": "execute_result",
          "data": {
            "text/html": [
              "<div>\n",
              "<style scoped>\n",
              "    .dataframe tbody tr th:only-of-type {\n",
              "        vertical-align: middle;\n",
              "    }\n",
              "\n",
              "    .dataframe tbody tr th {\n",
              "        vertical-align: top;\n",
              "    }\n",
              "\n",
              "    .dataframe thead th {\n",
              "        text-align: right;\n",
              "    }\n",
              "</style>\n",
              "<table border=\"1\" class=\"dataframe\">\n",
              "  <thead>\n",
              "    <tr style=\"text-align: right;\">\n",
              "      <th></th>\n",
              "      <th>video_id</th>\n",
              "      <th>cvt_per_day</th>\n",
              "      <th>weighted_categorical_position</th>\n",
              "      <th>weighted_horizontal_poition</th>\n",
              "      <th>release_year</th>\n",
              "      <th>imdb_votes</th>\n",
              "      <th>budget</th>\n",
              "      <th>boxoffice</th>\n",
              "      <th>imdb_rating</th>\n",
              "      <th>duration_in_mins</th>\n",
              "      <th>metacritic_score</th>\n",
              "      <th>star_category</th>\n",
              "    </tr>\n",
              "  </thead>\n",
              "  <tbody>\n",
              "    <tr>\n",
              "      <th>count</th>\n",
              "      <td>4226.000000</td>\n",
              "      <td>4226.000000</td>\n",
              "      <td>4226.000000</td>\n",
              "      <td>4226.000000</td>\n",
              "      <td>4226.000000</td>\n",
              "      <td>4226.000000</td>\n",
              "      <td>4.226000e+03</td>\n",
              "      <td>4.226000e+03</td>\n",
              "      <td>4226.000000</td>\n",
              "      <td>4226.000000</td>\n",
              "      <td>4226.000000</td>\n",
              "      <td>4226.000000</td>\n",
              "    </tr>\n",
              "    <tr>\n",
              "      <th>mean</th>\n",
              "      <td>280371.162565</td>\n",
              "      <td>4218.630239</td>\n",
              "      <td>7.782537</td>\n",
              "      <td>28.103644</td>\n",
              "      <td>2001.056791</td>\n",
              "      <td>6462.924042</td>\n",
              "      <td>2.150743e+06</td>\n",
              "      <td>2.536338e+06</td>\n",
              "      <td>5.257099</td>\n",
              "      <td>89.556123</td>\n",
              "      <td>15.973734</td>\n",
              "      <td>0.954651</td>\n",
              "    </tr>\n",
              "    <tr>\n",
              "      <th>std</th>\n",
              "      <td>112640.127822</td>\n",
              "      <td>13036.079964</td>\n",
              "      <td>6.134183</td>\n",
              "      <td>11.863649</td>\n",
              "      <td>17.496849</td>\n",
              "      <td>31596.006790</td>\n",
              "      <td>7.176604e+06</td>\n",
              "      <td>8.243516e+06</td>\n",
              "      <td>2.122810</td>\n",
              "      <td>21.086183</td>\n",
              "      <td>26.205217</td>\n",
              "      <td>0.955045</td>\n",
              "    </tr>\n",
              "    <tr>\n",
              "      <th>min</th>\n",
              "      <td>7909.000000</td>\n",
              "      <td>2.187625</td>\n",
              "      <td>1.000000</td>\n",
              "      <td>1.000000</td>\n",
              "      <td>1916.000000</td>\n",
              "      <td>0.000000</td>\n",
              "      <td>0.000000e+00</td>\n",
              "      <td>0.000000e+00</td>\n",
              "      <td>0.000000</td>\n",
              "      <td>4.037250</td>\n",
              "      <td>0.000000</td>\n",
              "      <td>0.000000</td>\n",
              "    </tr>\n",
              "    <tr>\n",
              "      <th>10%</th>\n",
              "      <td>30848.000000</td>\n",
              "      <td>141.984913</td>\n",
              "      <td>3.000000</td>\n",
              "      <td>13.000000</td>\n",
              "      <td>1974.000000</td>\n",
              "      <td>8.000000</td>\n",
              "      <td>0.000000e+00</td>\n",
              "      <td>0.000000e+00</td>\n",
              "      <td>2.300000</td>\n",
              "      <td>62.390781</td>\n",
              "      <td>0.000000</td>\n",
              "      <td>0.000000</td>\n",
              "    </tr>\n",
              "    <tr>\n",
              "      <th>25%</th>\n",
              "      <td>285104.250000</td>\n",
              "      <td>351.168776</td>\n",
              "      <td>4.000000</td>\n",
              "      <td>20.000000</td>\n",
              "      <td>1998.000000</td>\n",
              "      <td>81.000000</td>\n",
              "      <td>0.000000e+00</td>\n",
              "      <td>0.000000e+00</td>\n",
              "      <td>4.300000</td>\n",
              "      <td>82.601712</td>\n",
              "      <td>0.000000</td>\n",
              "      <td>0.000000</td>\n",
              "    </tr>\n",
              "    <tr>\n",
              "      <th>50%</th>\n",
              "      <td>313891.500000</td>\n",
              "      <td>1193.499989</td>\n",
              "      <td>6.000000</td>\n",
              "      <td>28.000000</td>\n",
              "      <td>2008.000000</td>\n",
              "      <td>535.000000</td>\n",
              "      <td>0.000000e+00</td>\n",
              "      <td>0.000000e+00</td>\n",
              "      <td>5.800000</td>\n",
              "      <td>90.730308</td>\n",
              "      <td>0.000000</td>\n",
              "      <td>1.000000</td>\n",
              "    </tr>\n",
              "    <tr>\n",
              "      <th>75%</th>\n",
              "      <td>349345.750000</td>\n",
              "      <td>3356.788816</td>\n",
              "      <td>9.000000</td>\n",
              "      <td>36.000000</td>\n",
              "      <td>2012.000000</td>\n",
              "      <td>3053.000000</td>\n",
              "      <td>1.500000e+06</td>\n",
              "      <td>0.000000e+00</td>\n",
              "      <td>6.800000</td>\n",
              "      <td>99.500312</td>\n",
              "      <td>41.000000</td>\n",
              "      <td>1.666667</td>\n",
              "    </tr>\n",
              "    <tr>\n",
              "      <th>90%</th>\n",
              "      <td>376150.500000</td>\n",
              "      <td>7930.121453</td>\n",
              "      <td>15.000000</td>\n",
              "      <td>44.000000</td>\n",
              "      <td>2014.000000</td>\n",
              "      <td>12180.500000</td>\n",
              "      <td>5.000000e+06</td>\n",
              "      <td>8.551228e+06</td>\n",
              "      <td>7.500000</td>\n",
              "      <td>111.033917</td>\n",
              "      <td>57.000000</td>\n",
              "      <td>2.250000</td>\n",
              "    </tr>\n",
              "    <tr>\n",
              "      <th>max</th>\n",
              "      <td>394880.000000</td>\n",
              "      <td>307127.605608</td>\n",
              "      <td>41.000000</td>\n",
              "      <td>70.000000</td>\n",
              "      <td>2017.000000</td>\n",
              "      <td>948630.000000</td>\n",
              "      <td>1.070000e+08</td>\n",
              "      <td>1.842088e+08</td>\n",
              "      <td>10.000000</td>\n",
              "      <td>246.016767</td>\n",
              "      <td>100.000000</td>\n",
              "      <td>4.000000</td>\n",
              "    </tr>\n",
              "  </tbody>\n",
              "</table>\n",
              "</div>"
            ],
            "text/plain": [
              "            video_id    cvt_per_day  ...  metacritic_score  star_category\n",
              "count    4226.000000    4226.000000  ...       4226.000000    4226.000000\n",
              "mean   280371.162565    4218.630239  ...         15.973734       0.954651\n",
              "std    112640.127822   13036.079964  ...         26.205217       0.955045\n",
              "min      7909.000000       2.187625  ...          0.000000       0.000000\n",
              "10%     30848.000000     141.984913  ...          0.000000       0.000000\n",
              "25%    285104.250000     351.168776  ...          0.000000       0.000000\n",
              "50%    313891.500000    1193.499989  ...          0.000000       1.000000\n",
              "75%    349345.750000    3356.788816  ...         41.000000       1.666667\n",
              "90%    376150.500000    7930.121453  ...         57.000000       2.250000\n",
              "max    394880.000000  307127.605608  ...        100.000000       4.000000\n",
              "\n",
              "[10 rows x 12 columns]"
            ]
          },
          "metadata": {
            "tags": []
          },
          "execution_count": 15
        }
      ]
    },
    {
      "cell_type": "markdown",
      "metadata": {
        "id": "tG1VnTMxKx2i",
        "colab_type": "text"
      },
      "source": [
        "From the data.describe() percentile information, we could find that there is severe missing information in the dataset, here is a brief summary for the missing information:\n",
        "\n",
        "budget ~50%\n",
        "\n",
        "boxoffice ~75%\n",
        "\n",
        "metacritic_score ~50%\n",
        "\n",
        "star_category ~25%"
      ]
    },
    {
      "cell_type": "code",
      "metadata": {
        "id": "b6qclHvTMpQ3",
        "colab_type": "code",
        "outputId": "6e002d83-8f5b-40e3-d31c-dc9ef9701c33",
        "colab": {
          "base_uri": "https://localhost:8080/"
        }
      },
      "source": [
        "print((data == 0).sum())  # Find the total zeros in each column"
      ],
      "execution_count": 0,
      "outputs": [
        {
          "output_type": "stream",
          "text": [
            "video_id                            0\n",
            "cvt_per_day                         0\n",
            "weighted_categorical_position       0\n",
            "weighted_horizontal_poition         0\n",
            "import_id                           0\n",
            "release_year                        0\n",
            "genres                              0\n",
            "imdb_votes                        344\n",
            "budget                           2454\n",
            "boxoffice                        3194\n",
            "imdb_rating                       344\n",
            "duration_in_mins                    0\n",
            "metacritic_score                 3012\n",
            "awards                              0\n",
            "mpaa                                0\n",
            "star_category                    1846\n",
            "dtype: int64\n"
          ],
          "name": "stdout"
        }
      ]
    },
    {
      "cell_type": "markdown",
      "metadata": {
        "id": "aILXLTp6NDtg",
        "colab_type": "text"
      },
      "source": [
        "The missing values have been detected by data.descibe() and print((data ==0).sum())"
      ]
    },
    {
      "cell_type": "markdown",
      "metadata": {
        "id": "oPwjF0JUKyjd",
        "colab_type": "text"
      },
      "source": [
        "####1.2.1. Exclude Erroneous Data\n",
        "Each video should only appear once in the list, duplicated video will be removed."
      ]
    },
    {
      "cell_type": "code",
      "metadata": {
        "id": "vt-5NpIsKrCe",
        "colab_type": "code",
        "outputId": "01365ec9-00ef-428a-e5d0-cc30b2f81fe2",
        "colab": {
          "base_uri": "https://localhost:8080/"
        }
      },
      "source": [
        "# check whether or not the dataset includes duplicated rows\n",
        "len(data.set_index('video_id').index.get_duplicates())==0"
      ],
      "execution_count": 0,
      "outputs": [
        {
          "output_type": "stream",
          "text": [
            "/usr/local/lib/python3.6/dist-packages/ipykernel_launcher.py:1: FutureWarning: 'get_duplicates' is deprecated and will be removed in a future release. You can use idx[idx.duplicated()].unique() instead\n",
            "  \"\"\"Entry point for launching an IPython kernel.\n"
          ],
          "name": "stderr"
        },
        {
          "output_type": "execute_result",
          "data": {
            "text/plain": [
              "True"
            ]
          },
          "metadata": {
            "tags": []
          },
          "execution_count": 17
        }
      ]
    },
    {
      "cell_type": "markdown",
      "metadata": {
        "id": "GVxHoqdDXE-F",
        "colab_type": "text"
      },
      "source": [
        "There is no duplicated data entry based on the video_id"
      ]
    },
    {
      "cell_type": "code",
      "metadata": {
        "id": "P5GhFfMDE58c",
        "colab_type": "code",
        "outputId": "c7292729-5cf5-4298-8bb0-eaa8146b2306",
        "colab": {
          "base_uri": "https://localhost:8080/"
        }
      },
      "source": [
        "pd.set_option('display.float_format',lambda x:'%.0f' % x)\n",
        "data.describe()"
      ],
      "execution_count": 0,
      "outputs": [
        {
          "output_type": "execute_result",
          "data": {
            "text/html": [
              "<div>\n",
              "<style scoped>\n",
              "    .dataframe tbody tr th:only-of-type {\n",
              "        vertical-align: middle;\n",
              "    }\n",
              "\n",
              "    .dataframe tbody tr th {\n",
              "        vertical-align: top;\n",
              "    }\n",
              "\n",
              "    .dataframe thead th {\n",
              "        text-align: right;\n",
              "    }\n",
              "</style>\n",
              "<table border=\"1\" class=\"dataframe\">\n",
              "  <thead>\n",
              "    <tr style=\"text-align: right;\">\n",
              "      <th></th>\n",
              "      <th>video_id</th>\n",
              "      <th>cvt_per_day</th>\n",
              "      <th>weighted_categorical_position</th>\n",
              "      <th>weighted_horizontal_poition</th>\n",
              "      <th>release_year</th>\n",
              "      <th>imdb_votes</th>\n",
              "      <th>budget</th>\n",
              "      <th>boxoffice</th>\n",
              "      <th>imdb_rating</th>\n",
              "      <th>duration_in_mins</th>\n",
              "      <th>metacritic_score</th>\n",
              "      <th>star_category</th>\n",
              "    </tr>\n",
              "  </thead>\n",
              "  <tbody>\n",
              "    <tr>\n",
              "      <th>count</th>\n",
              "      <td>4226</td>\n",
              "      <td>4226</td>\n",
              "      <td>4226</td>\n",
              "      <td>4226</td>\n",
              "      <td>4226</td>\n",
              "      <td>4226</td>\n",
              "      <td>4226</td>\n",
              "      <td>4226</td>\n",
              "      <td>4226</td>\n",
              "      <td>4226</td>\n",
              "      <td>4226</td>\n",
              "      <td>4226</td>\n",
              "    </tr>\n",
              "    <tr>\n",
              "      <th>mean</th>\n",
              "      <td>280371</td>\n",
              "      <td>4219</td>\n",
              "      <td>8</td>\n",
              "      <td>28</td>\n",
              "      <td>2001</td>\n",
              "      <td>6463</td>\n",
              "      <td>2150743</td>\n",
              "      <td>2536338</td>\n",
              "      <td>5</td>\n",
              "      <td>90</td>\n",
              "      <td>16</td>\n",
              "      <td>1</td>\n",
              "    </tr>\n",
              "    <tr>\n",
              "      <th>std</th>\n",
              "      <td>112640</td>\n",
              "      <td>13036</td>\n",
              "      <td>6</td>\n",
              "      <td>12</td>\n",
              "      <td>17</td>\n",
              "      <td>31596</td>\n",
              "      <td>7176604</td>\n",
              "      <td>8243516</td>\n",
              "      <td>2</td>\n",
              "      <td>21</td>\n",
              "      <td>26</td>\n",
              "      <td>1</td>\n",
              "    </tr>\n",
              "    <tr>\n",
              "      <th>min</th>\n",
              "      <td>7909</td>\n",
              "      <td>2</td>\n",
              "      <td>1</td>\n",
              "      <td>1</td>\n",
              "      <td>1916</td>\n",
              "      <td>0</td>\n",
              "      <td>0</td>\n",
              "      <td>0</td>\n",
              "      <td>0</td>\n",
              "      <td>4</td>\n",
              "      <td>0</td>\n",
              "      <td>0</td>\n",
              "    </tr>\n",
              "    <tr>\n",
              "      <th>25%</th>\n",
              "      <td>285104</td>\n",
              "      <td>351</td>\n",
              "      <td>4</td>\n",
              "      <td>20</td>\n",
              "      <td>1998</td>\n",
              "      <td>81</td>\n",
              "      <td>0</td>\n",
              "      <td>0</td>\n",
              "      <td>4</td>\n",
              "      <td>83</td>\n",
              "      <td>0</td>\n",
              "      <td>0</td>\n",
              "    </tr>\n",
              "    <tr>\n",
              "      <th>50%</th>\n",
              "      <td>313892</td>\n",
              "      <td>1193</td>\n",
              "      <td>6</td>\n",
              "      <td>28</td>\n",
              "      <td>2008</td>\n",
              "      <td>535</td>\n",
              "      <td>0</td>\n",
              "      <td>0</td>\n",
              "      <td>6</td>\n",
              "      <td>91</td>\n",
              "      <td>0</td>\n",
              "      <td>1</td>\n",
              "    </tr>\n",
              "    <tr>\n",
              "      <th>75%</th>\n",
              "      <td>349346</td>\n",
              "      <td>3357</td>\n",
              "      <td>9</td>\n",
              "      <td>36</td>\n",
              "      <td>2012</td>\n",
              "      <td>3053</td>\n",
              "      <td>1500000</td>\n",
              "      <td>0</td>\n",
              "      <td>7</td>\n",
              "      <td>100</td>\n",
              "      <td>41</td>\n",
              "      <td>2</td>\n",
              "    </tr>\n",
              "    <tr>\n",
              "      <th>max</th>\n",
              "      <td>394880</td>\n",
              "      <td>307128</td>\n",
              "      <td>41</td>\n",
              "      <td>70</td>\n",
              "      <td>2017</td>\n",
              "      <td>948630</td>\n",
              "      <td>107000000</td>\n",
              "      <td>184208848</td>\n",
              "      <td>10</td>\n",
              "      <td>246</td>\n",
              "      <td>100</td>\n",
              "      <td>4</td>\n",
              "    </tr>\n",
              "  </tbody>\n",
              "</table>\n",
              "</div>"
            ],
            "text/plain": [
              "       video_id  cvt_per_day  ...  metacritic_score  star_category\n",
              "count      4226         4226  ...              4226           4226\n",
              "mean     280371         4219  ...                16              1\n",
              "std      112640        13036  ...                26              1\n",
              "min        7909            2  ...                 0              0\n",
              "25%      285104          351  ...                 0              0\n",
              "50%      313892         1193  ...                 0              1\n",
              "75%      349346         3357  ...                41              2\n",
              "max      394880       307128  ...               100              4\n",
              "\n",
              "[8 rows x 12 columns]"
            ]
          },
          "metadata": {
            "tags": []
          },
          "execution_count": 18
        }
      ]
    },
    {
      "cell_type": "markdown",
      "metadata": {
        "id": "5rDztAWCNTNq",
        "colab_type": "text"
      },
      "source": [
        "####1.2.2. cvt_per_day feature"
      ]
    },
    {
      "cell_type": "code",
      "metadata": {
        "id": "h_d2q0gYvFry",
        "colab_type": "code",
        "outputId": "d611d313-b5af-4cb0-de8c-5c533fd4dc4b",
        "colab": {
          "base_uri": "https://localhost:8080/"
        }
      },
      "source": [
        "# cvt_per_day data explore\n",
        "fig,(ax1,ax2) = plt.subplots(2,1)\n",
        "fig.suptitle('The distribution of cvt_per_day before data pre-processing')\n",
        "ax1.hist(data['cvt_per_day'].values, bins = range(0,15000,30),alpha=0.5,color = 'blue',label = 'cvt_per_day')\n",
        "ax2.hist(data['cvt_per_day'].values, log = True, bins = range(0,15000,30),alpha=0.5,color = 'blue',label = 'cvt_per_day')\n",
        "plt.legend(loc ='upper right')\n",
        "plt.xlabel('cvt_per_day')\n",
        "plt.ylabel('Count')\n",
        "plt.tight_layout()\n"
      ],
      "execution_count": 0,
      "outputs": [
        {
          "output_type": "display_data",
          "data": {
            "image/png": "[encoded data removed]",
            "text/plain": [
              "<Figure size 432x288 with 2 Axes>"
            ]
          },
          "metadata": {
            "tags": []
          }
        }
      ]
    },
    {
      "cell_type": "code",
      "metadata": {
        "id": "EimjWRHONZie",
        "colab_type": "code",
        "outputId": "8f371189-2895-41ff-be31-6874f5ba1809",
        "colab": {
          "base_uri": "https://localhost:8080/"
        }
      },
      "source": [
        "# cvt_per_day data explore\n",
        "plt.hist(data['cvt_per_day'].values, bins = range(0,15000, 30), alpha = 0.5, color='r', label = 'cvt_per_day')\n",
        "plt.legend(loc ='upper right')\n",
        "plt.title('Historgrams of cvt_per_day before data processing')\n",
        "plt.xlabel('cvt_per_day')\n",
        "plt.ylabel('Count')\n",
        "plt.show()\n",
        "\n",
        "# log scale of y due to large variation\n",
        "plt.hist(data['cvt_per_day'].values, log = True, bins = range(0,15000, 30), alpha = 0.5, color='g', label = 'cvt_per_day_log_scale')\n",
        "plt.legend(loc ='upper right')\n",
        "plt.title('Historgrams of cvt_per_day before data processing')\n",
        "plt.xlabel('cvt_per_day_log_scale')\n",
        "plt.ylabel('Count')\n",
        "plt.show()\n"
      ],
      "execution_count": 0,
      "outputs": [
        {
          "output_type": "display_data",
          "data": {
            "image/png": "[encoded data removed]",
            "text/plain": [
              "<Figure size 432x288 with 1 Axes>"
            ]
          },
          "metadata": {
            "tags": []
          }
        },
        {
          "output_type": "display_data",
          "data": {
            "image/png": "[encoded data removed]",
            "text/plain": [
              "<Figure size 432x288 with 1 Axes>"
            ]
          },
          "metadata": {
            "tags": []
          }
        }
      ]
    },
    {
      "cell_type": "code",
      "metadata": {
        "id": "5lF5XSi7L_av",
        "colab_type": "code",
        "colab": {}
      },
      "source": [
        ""
      ],
      "execution_count": 0,
      "outputs": []
    },
    {
      "cell_type": "markdown",
      "metadata": {
        "id": "mXkaf9Q-MFyW",
        "colab_type": "text"
      },
      "source": [
        "####1.2.3. Correlation among numerical features"
      ]
    },
    {
      "cell_type": "code",
      "metadata": {
        "id": "L1K6jjW8MMdl",
        "colab_type": "code",
        "outputId": "52f5644a-5e46-4745-c32a-0f4b72ef8912",
        "colab": {
          "base_uri": "https://localhost:8080/"
        }
      },
      "source": [
        "# correlation of the numerical features\n",
        "numerical_feature = data.drop(['video_id','release_year'],axis = 1)  # no need to drop other categorical data because the corr will not take categorical data into computation\n",
        "corr = numerical_feature.corr()\n",
        "sns.heatmap(corr,cmap=\"YlGnBu\")"
      ],
      "execution_count": 0,
      "outputs": [
        {
          "output_type": "execute_result",
          "data": {
            "text/plain": [
              "<matplotlib.axes._subplots.AxesSubplot at 0x7fddb7b4d7f0>"
            ]
          },
          "metadata": {
            "tags": []
          },
          "execution_count": 21
        },
        {
          "output_type": "display_data",
          "data": {
            "image/png": "[encoded data removed]",
            "text/plain": [
              "<Figure size 432x288 with 2 Axes>"
            ]
          },
          "metadata": {
            "tags": []
          }
        }
      ]
    },
    {
      "cell_type": "markdown",
      "metadata": {
        "id": "MsxCfVsgN_fL",
        "colab_type": "text"
      },
      "source": [
        "The results reveal that the imdb_votes, budget, boxoffice, metacritic_score, and star_category are highly correlated to cvt_per_day"
      ]
    },
    {
      "cell_type": "code",
      "metadata": {
        "id": "n6TU1SzeNZ-X",
        "colab_type": "code",
        "outputId": "3a6c12a8-3ada-40ee-8d71-1458fe264d6f",
        "colab": {
          "base_uri": "https://localhost:8080/"
        }
      },
      "source": [
        "pd.set_option('display.float_format', lambda x: '%.3f' % x)\n",
        "corr"
      ],
      "execution_count": 0,
      "outputs": [
        {
          "output_type": "execute_result",
          "data": {
            "text/html": [
              "<div>\n",
              "<style scoped>\n",
              "    .dataframe tbody tr th:only-of-type {\n",
              "        vertical-align: middle;\n",
              "    }\n",
              "\n",
              "    .dataframe tbody tr th {\n",
              "        vertical-align: top;\n",
              "    }\n",
              "\n",
              "    .dataframe thead th {\n",
              "        text-align: right;\n",
              "    }\n",
              "</style>\n",
              "<table border=\"1\" class=\"dataframe\">\n",
              "  <thead>\n",
              "    <tr style=\"text-align: right;\">\n",
              "      <th></th>\n",
              "      <th>cvt_per_day</th>\n",
              "      <th>weighted_categorical_position</th>\n",
              "      <th>weighted_horizontal_poition</th>\n",
              "      <th>imdb_votes</th>\n",
              "      <th>budget</th>\n",
              "      <th>boxoffice</th>\n",
              "      <th>imdb_rating</th>\n",
              "      <th>duration_in_mins</th>\n",
              "      <th>metacritic_score</th>\n",
              "      <th>star_category</th>\n",
              "    </tr>\n",
              "  </thead>\n",
              "  <tbody>\n",
              "    <tr>\n",
              "      <th>cvt_per_day</th>\n",
              "      <td>1.000</td>\n",
              "      <td>-0.148</td>\n",
              "      <td>-0.302</td>\n",
              "      <td>0.298</td>\n",
              "      <td>0.316</td>\n",
              "      <td>0.312</td>\n",
              "      <td>0.059</td>\n",
              "      <td>0.152</td>\n",
              "      <td>0.249</td>\n",
              "      <td>0.247</td>\n",
              "    </tr>\n",
              "    <tr>\n",
              "      <th>weighted_categorical_position</th>\n",
              "      <td>-0.148</td>\n",
              "      <td>1.000</td>\n",
              "      <td>-0.084</td>\n",
              "      <td>-0.064</td>\n",
              "      <td>-0.090</td>\n",
              "      <td>-0.074</td>\n",
              "      <td>-0.116</td>\n",
              "      <td>-0.174</td>\n",
              "      <td>-0.044</td>\n",
              "      <td>-0.123</td>\n",
              "    </tr>\n",
              "    <tr>\n",
              "      <th>weighted_horizontal_poition</th>\n",
              "      <td>-0.302</td>\n",
              "      <td>-0.084</td>\n",
              "      <td>1.000</td>\n",
              "      <td>-0.221</td>\n",
              "      <td>-0.211</td>\n",
              "      <td>-0.245</td>\n",
              "      <td>-0.162</td>\n",
              "      <td>-0.102</td>\n",
              "      <td>-0.255</td>\n",
              "      <td>-0.168</td>\n",
              "    </tr>\n",
              "    <tr>\n",
              "      <th>imdb_votes</th>\n",
              "      <td>0.298</td>\n",
              "      <td>-0.064</td>\n",
              "      <td>-0.221</td>\n",
              "      <td>1.000</td>\n",
              "      <td>0.273</td>\n",
              "      <td>0.531</td>\n",
              "      <td>0.163</td>\n",
              "      <td>0.156</td>\n",
              "      <td>0.322</td>\n",
              "      <td>0.225</td>\n",
              "    </tr>\n",
              "    <tr>\n",
              "      <th>budget</th>\n",
              "      <td>0.316</td>\n",
              "      <td>-0.090</td>\n",
              "      <td>-0.211</td>\n",
              "      <td>0.273</td>\n",
              "      <td>1.000</td>\n",
              "      <td>0.505</td>\n",
              "      <td>0.106</td>\n",
              "      <td>0.251</td>\n",
              "      <td>0.315</td>\n",
              "      <td>0.322</td>\n",
              "    </tr>\n",
              "    <tr>\n",
              "      <th>boxoffice</th>\n",
              "      <td>0.312</td>\n",
              "      <td>-0.074</td>\n",
              "      <td>-0.245</td>\n",
              "      <td>0.531</td>\n",
              "      <td>0.505</td>\n",
              "      <td>1.000</td>\n",
              "      <td>0.164</td>\n",
              "      <td>0.226</td>\n",
              "      <td>0.465</td>\n",
              "      <td>0.322</td>\n",
              "    </tr>\n",
              "    <tr>\n",
              "      <th>imdb_rating</th>\n",
              "      <td>0.059</td>\n",
              "      <td>-0.116</td>\n",
              "      <td>-0.162</td>\n",
              "      <td>0.163</td>\n",
              "      <td>0.106</td>\n",
              "      <td>0.164</td>\n",
              "      <td>1.000</td>\n",
              "      <td>0.344</td>\n",
              "      <td>0.347</td>\n",
              "      <td>0.192</td>\n",
              "    </tr>\n",
              "    <tr>\n",
              "      <th>duration_in_mins</th>\n",
              "      <td>0.152</td>\n",
              "      <td>-0.174</td>\n",
              "      <td>-0.102</td>\n",
              "      <td>0.156</td>\n",
              "      <td>0.251</td>\n",
              "      <td>0.226</td>\n",
              "      <td>0.344</td>\n",
              "      <td>1.000</td>\n",
              "      <td>0.327</td>\n",
              "      <td>0.309</td>\n",
              "    </tr>\n",
              "    <tr>\n",
              "      <th>metacritic_score</th>\n",
              "      <td>0.249</td>\n",
              "      <td>-0.044</td>\n",
              "      <td>-0.255</td>\n",
              "      <td>0.322</td>\n",
              "      <td>0.315</td>\n",
              "      <td>0.465</td>\n",
              "      <td>0.347</td>\n",
              "      <td>0.327</td>\n",
              "      <td>1.000</td>\n",
              "      <td>0.452</td>\n",
              "    </tr>\n",
              "    <tr>\n",
              "      <th>star_category</th>\n",
              "      <td>0.247</td>\n",
              "      <td>-0.123</td>\n",
              "      <td>-0.168</td>\n",
              "      <td>0.225</td>\n",
              "      <td>0.322</td>\n",
              "      <td>0.322</td>\n",
              "      <td>0.192</td>\n",
              "      <td>0.309</td>\n",
              "      <td>0.452</td>\n",
              "      <td>1.000</td>\n",
              "    </tr>\n",
              "  </tbody>\n",
              "</table>\n",
              "</div>"
            ],
            "text/plain": [
              "                               cvt_per_day  ...  star_category\n",
              "cvt_per_day                          1.000  ...          0.247\n",
              "weighted_categorical_position       -0.148  ...         -0.123\n",
              "weighted_horizontal_poition         -0.302  ...         -0.168\n",
              "imdb_votes                           0.298  ...          0.225\n",
              "budget                               0.316  ...          0.322\n",
              "boxoffice                            0.312  ...          0.322\n",
              "imdb_rating                          0.059  ...          0.192\n",
              "duration_in_mins                     0.152  ...          0.309\n",
              "metacritic_score                     0.249  ...          0.452\n",
              "star_category                        0.247  ...          1.000\n",
              "\n",
              "[10 rows x 10 columns]"
            ]
          },
          "metadata": {
            "tags": []
          },
          "execution_count": 22
        }
      ]
    },
    {
      "cell_type": "markdown",
      "metadata": {
        "id": "EuZHfVV4OO4c",
        "colab_type": "text"
      },
      "source": [
        "###1.3. Understand the categorical features"
      ]
    },
    {
      "cell_type": "markdown",
      "metadata": {
        "id": "kZZ6sSKHOXw3",
        "colab_type": "text"
      },
      "source": [
        "####1.3.1. Simple categorical feature(mpaa, import_id,awards)"
      ]
    },
    {
      "cell_type": "code",
      "metadata": {
        "id": "TJ7H4vmHOWeZ",
        "colab_type": "code",
        "outputId": "faef495e-7f0e-48e1-ed37-a99e4cd78278",
        "colab": {
          "base_uri": "https://localhost:8080/",
          "height": 816
        }
      },
      "source": [
        "# Boxplots\n",
        "sns.boxplot(x = 'mpaa', y = 'cvt_per_day', data=data).set_yscale('log')\n",
        "plt.show()\n",
        "sns.boxplot(x = 'import_id', y = 'cvt_per_day', data=data).set_yscale('log')\n",
        "plt.show()\n",
        "sns.boxplot(x = 'awards', y = 'cvt_per_day', data=data).set_yscale('log')\n",
        "plt.show()"
      ],
      "execution_count": 0,
      "outputs": [
        {
          "output_type": "display_data",
          "data": {
            "image/png": "[encoded data removed]",
            "text/plain": [
              "<Figure size 432x288 with 1 Axes>"
            ]
          },
          "metadata": {
            "tags": []
          }
        },
        {
          "output_type": "display_data",
          "data": {
            "image/png": "[encoded data removed]",
            "text/plain": [
              "<Figure size 432x288 with 1 Axes>"
            ]
          },
          "metadata": {
            "tags": []
          }
        },
        {
          "output_type": "display_data",
          "data": {
            "image/png": "[encoded data removed]",
            "text/plain": [
              "<Figure size 432x288 with 1 Axes>"
            ]
          },
          "metadata": {
            "tags": []
          }
        }
      ]
    },
    {
      "cell_type": "code",
      "metadata": {
        "id": "8Ed-FOt7P8Bi",
        "colab_type": "code",
        "outputId": "f6fdb748-2466-4a3b-f8e1-68b39a1de33e",
        "colab": {
          "base_uri": "https://localhost:8080/",
          "height": 1000
        }
      },
      "source": [
        "# Stripplot\n",
        "sns.stripplot(x='import_id', y='cvt_per_day', data=data, jitter=True)\n",
        "plt.show()\n",
        "print (data['import_id'].value_counts().reset_index())\n",
        "\n",
        "sns.stripplot(x='mpaa', y='cvt_per_day', data=data, jitter=True)\n",
        "plt.show()\n",
        "print (data['mpaa'].value_counts().reset_index())\n",
        "\n",
        "sns.stripplot(x='awards', y='cvt_per_day', data=data, jitter=True)\n",
        "plt.show()\n",
        "print (data['awards'].value_counts().reset_index())"
      ],
      "execution_count": 0,
      "outputs": [
        {
          "output_type": "display_data",
          "data": {
            "image/png": "[encoded data removed]",
            "text/plain": [
              "<Figure size 432x288 with 1 Axes>"
            ]
          },
          "metadata": {
            "tags": []
          }
        },
        {
          "output_type": "stream",
          "text": [
            "       index  import_id\n",
            "0      other       2963\n",
            "1  lionsgate        677\n",
            "2        mgm        445\n",
            "3  paramount        141\n"
          ],
          "name": "stdout"
        },
        {
          "output_type": "display_data",
          "data": {
            "image/png": "[encoded data removed]",
            "text/plain": [
              "<Figure size 432x288 with 1 Axes>"
            ]
          },
          "metadata": {
            "tags": []
          }
        },
        {
          "output_type": "stream",
          "text": [
            "      index  mpaa\n",
            "0  NotRated  2158\n",
            "1         R  1158\n",
            "2     PG-13   426\n",
            "3        PG   353\n",
            "4         G   125\n",
            "5     NC-17     6\n"
          ],
          "name": "stdout"
        },
        {
          "output_type": "display_data",
          "data": {
            "image/png": "[encoded data removed]",
            "text/plain": [
              "<Figure size 432x288 with 1 Axes>"
            ]
          },
          "metadata": {
            "tags": []
          }
        },
        {
          "output_type": "stream",
          "text": [
            "          index  awards\n",
            "0      no award    2569\n",
            "1   other award    1453\n",
            "2         Oscar     141\n",
            "3  Golden Globe      44\n",
            "4         BAFTA      19\n"
          ],
          "name": "stdout"
        }
      ]
    },
    {
      "cell_type": "markdown",
      "metadata": {
        "id": "4CmLAtswW7xc",
        "colab_type": "text"
      },
      "source": [
        "####1.3.2. Distribution of splited genres\n",
        "Some videos belong to more than 1 genre, the genre of each video is splited, this would help emphasize the effect of each individual genre."
      ]
    },
    {
      "cell_type": "code",
      "metadata": {
        "id": "zrEqsUhcXI8_",
        "colab_type": "code",
        "outputId": "4c914cac-a15b-4f65-bfa4-bb30e2ed5f18",
        "colab": {
          "base_uri": "https://localhost:8080/"
        }
      },
      "source": [
        "# generes explore, split the genre of each video\n",
        "gen_split = data['genres'].str.get_dummies(sep=',').sum()\n",
        "gen_split.sort_values(ascending = False).plot.bar(color = 'blue')"
      ],
      "execution_count": 0,
      "outputs": [
        {
          "output_type": "execute_result",
          "data": {
            "text/plain": [
              "<matplotlib.axes._subplots.AxesSubplot at 0x7fddb75ca908>"
            ]
          },
          "metadata": {
            "tags": []
          },
          "execution_count": 25
        },
        {
          "output_type": "display_data",
          "data": {
            "image/png": "[encoded data removed]",
            "text/plain": [
              "<Figure size 432x288 with 1 Axes>"
            ]
          },
          "metadata": {
            "tags": []
          }
        }
      ]
    },
    {
      "cell_type": "markdown",
      "metadata": {
        "id": "n3n9viPxmz2r",
        "colab_type": "text"
      },
      "source": [
        "6 genres including Anime, Reality, Lifestyle, Adult, LGBT, Holiday have low frequencies. Therefore, during feature processing, they will be grouped together as\"Misc_gen\" in the feature 'genres'."
      ]
    },
    {
      "cell_type": "markdown",
      "metadata": {
        "id": "SSKMsu2vnOii",
        "colab_type": "text"
      },
      "source": [
        "####1.3.3. Distribution of release_year\n",
        "The release year of video varies through a wide range. Considering the popularity of a video usually decays over time, the release_year should be bucketed based on the release_year range."
      ]
    },
    {
      "cell_type": "code",
      "metadata": {
        "id": "uDZp5VaMj2Qh",
        "colab_type": "code",
        "outputId": "502d9e7a-8a6a-435c-b7df-1896ef2c13b7",
        "colab": {
          "base_uri": "https://localhost:8080/"
        }
      },
      "source": [
        "plt.figure(1)\n",
        "plt.hist(data['release_year'].values, bins = range(1910,2017,1), alpha = 0.5, color = 'r', label = 'release_year')\n",
        "plt.legend(loc = 'upper left')\n",
        "plt.title('Histograms of release_year before data pre-processing')\n",
        "plt.xlabel('release_year')\n",
        "plt.ylabel('Count')\n",
        "plt.show()\n",
        "\n",
        "print (data['release_year'].describe(percentiles = [.1, .2, .3, .4,.5, .6, .7, .8, .9]))"
      ],
      "execution_count": 0,
      "outputs": [
        {
          "output_type": "display_data",
          "data": {
            "image/png": "[encoded data removed]",
            "text/plain": [
              "<Figure size 432x288 with 1 Axes>"
            ]
          },
          "metadata": {
            "tags": []
          }
        },
        {
          "output_type": "stream",
          "text": [
            "count   4226.000\n",
            "mean    2001.057\n",
            "std       17.497\n",
            "min     1916.000\n",
            "10%     1974.000\n",
            "20%     1991.000\n",
            "30%     2001.000\n",
            "40%     2006.000\n",
            "50%     2008.000\n",
            "60%     2010.000\n",
            "70%     2012.000\n",
            "80%     2013.000\n",
            "90%     2014.000\n",
            "max     2017.000\n",
            "Name: release_year, dtype: float64\n"
          ],
          "name": "stdout"
        }
      ]
    },
    {
      "cell_type": "markdown",
      "metadata": {
        "id": "AM3Ltpw4olKp",
        "colab_type": "text"
      },
      "source": [
        "###2. Feature Pre-processing"
      ]
    },
    {
      "cell_type": "markdown",
      "metadata": {
        "id": "5ephxLmk--6W",
        "colab_type": "text"
      },
      "source": [
        "####2.1. Categorical features\n",
        "There are 5 categorical features: import_id, mpaa, awards, genres, and release_year. There is no missing data in them. They can be converted into dummy/indicators.\n",
        "\n",
        "The first 3 have relatively small sub-types, they can be easily converted to dummies.\n",
        "\n",
        "The 'genres' have 27 different sub-types, 6 of them are rarely observed (refer to previous section). It's reasonable to group these 6 into 1. Note: a video may have more than one genre, in the feature preprocessing, all genres are handled individually.\n",
        "\n",
        "The release_year is bined into 10 buckets based on the year range between 1917 and 2017."
      ]
    },
    {
      "cell_type": "markdown",
      "metadata": {
        "id": "zp9kOCTR-2bL",
        "colab_type": "text"
      },
      "source": [
        ""
      ]
    },
    {
      "cell_type": "code",
      "metadata": {
        "id": "8nDovYP8_gi0",
        "colab_type": "code",
        "colab": {}
      },
      "source": [
        "# Select all categorical data\n",
        "categorical = data[['import_id','mpaa','awards','genres','release_year']]\n",
        "categorical.head()\n",
        "\n",
        "# Convert the first 3 variables to dummies due to the small sub-types\n",
        "categorical_dummies = pd.get_dummies(categorical.iloc[ :,0:3]).astype(int)\n",
        "categorical_dummies.head()\n",
        "\n",
        "# Convert 'genres' into dummy variables\n",
        "d_genres = pd.DataFrame() \n",
        "for genre in ['Action', 'Adult', 'Adventure', 'Animation', 'Anime', 'Comedy', 'Crime', 'Documentary', 'Drama'\n",
        "          , 'Fantasy', 'Foreign/International', 'Holiday', 'Horror', 'Independent', 'Kids & Family', 'LGBT', \n",
        "          'Lifestyle', 'Music', 'Musicals','Mystery', 'Reality', 'Romance','Sci-Fi', 'Sport', 'Thriller', 'War', \n",
        "          'Western']:\n",
        "    gen_lst = []\n",
        "    for i in range(4226):        \n",
        "        if genre in data['genres'][i]:\n",
        "            gen_lst.append(1)    \n",
        "        else: \n",
        "            gen_lst.append(0)  \n",
        "    d_genres[genre] = pd.Series(gen_lst).values\n",
        "    \n",
        "# combine 6 smallest genres into a new genre 'Misc_gen'. Use bitwise operation '|', then drop these 6 columns.\n",
        "d_genres['Misc_gen'] = d_genres['Anime']|d_genres['Reality']|d_genres['Lifestyle']|d_genres['Adult']|d_genres['LGBT']|d_genres['Holiday']\n",
        "d_genres.drop(['Anime', 'Reality','Lifestyle', 'Adult','LGBT','Holiday'], inplace=True, axis=1)\n",
        "\n",
        "# Another way for genre dummies, we use the splitted genre\n",
        "genre_split = data['genres'].str.get_dummies(sep=',')\n",
        "\n",
        "# combine 6 smallest genres into a new genre 'Misc_gen'. Use bitwise operation '|', then drop these 6 columns.\n",
        "genre_split['Misc_gen'] = genre_split['Anime']|genre_split['Reality']|genre_split['Lifestyle']|genre_split['Adult']|genre_split['LGBT']|genre_split['Holiday']\n",
        "genre_split.drop(['Anime', 'Reality','Lifestyle', 'Adult','LGBT','Holiday'], inplace=True, axis=1)\n",
        "\n",
        "# Dummy variables for release_year\n",
        "data['release_year'].describe()  # we could know that the release_year is ranging from 1916 to 2017\n",
        "# Cut the release_year into 10 bins based on the percentiles calculated in 1.3.3\n",
        "bin_year = [1916, 1974, 1991, 2001, 2006, 2008, 2010, 2012, 2013, 2014,2017]\n",
        "year_range = ['1916-1974', '1974-1991', '1991-2001', '2001-2006','2006-2008','2008-2010','2010-2012','2012-2013',\n",
        "              '2013-2014','2014-2017']\n",
        "year_bin = pd.cut(data['release_year'], bin_year, labels=year_range)\n",
        "d_year = pd.get_dummies(year_bin).astype(int)\n",
        "\n"
      ],
      "execution_count": 0,
      "outputs": []
    },
    {
      "cell_type": "code",
      "metadata": {
        "id": "5fkkIwxOh67o",
        "colab_type": "code",
        "outputId": "66f3cae3-453d-425e-fba0-aae0a50cacf0",
        "colab": {
          "base_uri": "https://localhost:8080/"
        }
      },
      "source": [
        "# Get new dataframe with dummy variables by categorical features\n",
        "data_temp = data.drop(['import_id', 'mpaa','awards','genres', 'release_year'], axis=1)\n",
        "newData = pd.concat([data_temp,categorical_dummies,genre_split,d_year],axis = 1)\n",
        "print (newData.shape)\n",
        "print (pd.isnull(newData).any(1).nonzero()[0])\n",
        "print (newData.head())\n",
        "newData_0 = newData.copy() # a copy of newTV"
      ],
      "execution_count": 0,
      "outputs": [
        {
          "output_type": "stream",
          "text": [
            "(4226, 58)\n",
            "[]\n",
            "   video_id  cvt_per_day  ...  2013-2014  2014-2017\n",
            "0    385504   307127.606  ...          0          0\n",
            "1    300175   270338.426  ...          0          0\n",
            "2    361899   256165.867  ...          0          0\n",
            "3    308314   196622.721  ...          0          0\n",
            "4    307201   159841.652  ...          0          0\n",
            "\n",
            "[5 rows x 58 columns]\n"
          ],
          "name": "stdout"
        },
        {
          "output_type": "stream",
          "text": [
            "/usr/local/lib/python3.6/dist-packages/ipykernel_launcher.py:4: FutureWarning: Series.nonzero() is deprecated and will be removed in a future version.Use Series.to_numpy().nonzero() instead\n",
            "  after removing the cwd from sys.path.\n"
          ],
          "name": "stderr"
        }
      ]
    },
    {
      "cell_type": "markdown",
      "metadata": {
        "id": "TAH8s4c6nqvE",
        "colab_type": "text"
      },
      "source": [
        "####2.2. Handling of missing data\n",
        "Among the 10 numerical features (not include video_id), 4 features have over 25% of missing values (shown as '0', which is not possible in reality): budget, boxoffice, metacritic_score, star_category. 2 features have less than 10% of missing data: imdb_votes, imdb_rating.\n",
        "\n",
        "There are 3242 samples have at least one missing data."
      ]
    },
    {
      "cell_type": "code",
      "metadata": {
        "id": "Z4anuvJon5T_",
        "colab_type": "code",
        "outputId": "038518e7-22ac-4ca4-c4f3-6b94c8e017c0",
        "colab": {
          "base_uri": "https://localhost:8080/",
          "height": 1000
        }
      },
      "source": [
        "# mark zero values as NaN\n",
        "newData[['budget','boxoffice','metacritic_score', 'star_category','imdb_votes', 'imdb_rating']] = newData[['budget','boxoffice','metacritic_score', 'star_category','imdb_votes', 'imdb_rating']].replace(0, np.nan)\n",
        "\n",
        "# count the number of NaN values in each column\n",
        "print (newData.isnull().sum())\n",
        "\n",
        "#count the number videos who have at least one missing data \n",
        "print ('videos having at least one null: ', newData.isnull().any(axis=1).sum())"
      ],
      "execution_count": 0,
      "outputs": [
        {
          "output_type": "stream",
          "text": [
            "video_id                            0\n",
            "cvt_per_day                         0\n",
            "weighted_categorical_position       0\n",
            "weighted_horizontal_poition         0\n",
            "imdb_votes                        344\n",
            "budget                           2454\n",
            "boxoffice                        3194\n",
            "imdb_rating                       344\n",
            "duration_in_mins                    0\n",
            "metacritic_score                 3012\n",
            "star_category                    1846\n",
            "import_id_lionsgate                 0\n",
            "import_id_mgm                       0\n",
            "import_id_other                     0\n",
            "import_id_paramount                 0\n",
            "mpaa_G                              0\n",
            "mpaa_NC-17                          0\n",
            "mpaa_NotRated                       0\n",
            "mpaa_PG                             0\n",
            "mpaa_PG-13                          0\n",
            "mpaa_R                              0\n",
            "awards_BAFTA                        0\n",
            "awards_Golden Globe                 0\n",
            "awards_Oscar                        0\n",
            "awards_no award                     0\n",
            "awards_other award                  0\n",
            "Action                              0\n",
            "Adventure                           0\n",
            "Animation                           0\n",
            "Comedy                              0\n",
            "Crime                               0\n",
            "Documentary                         0\n",
            "Drama                               0\n",
            "Fantasy                             0\n",
            "Foreign/International               0\n",
            "Horror                              0\n",
            "Independent                         0\n",
            "Kids & Family                       0\n",
            "Music                               0\n",
            "Musicals                            0\n",
            "Mystery                             0\n",
            "Romance                             0\n",
            "Sci-Fi                              0\n",
            "Sport                               0\n",
            "Thriller                            0\n",
            "War                                 0\n",
            "Western                             0\n",
            "Misc_gen                            0\n",
            "1916-1974                           0\n",
            "1974-1991                           0\n",
            "1991-2001                           0\n",
            "2001-2006                           0\n",
            "2006-2008                           0\n",
            "2008-2010                           0\n",
            "2010-2012                           0\n",
            "2012-2013                           0\n",
            "2013-2014                           0\n",
            "2014-2017                           0\n",
            "dtype: int64\n",
            "videos having at least one null:  3242\n"
          ],
          "name": "stdout"
        }
      ]
    },
    {
      "cell_type": "markdown",
      "metadata": {
        "id": "6vPq0VdFo0Ij",
        "colab_type": "text"
      },
      "source": [
        "####2.2.1. Filling missing data with mean value\n",
        "For imdb_votes and imdb_rating, they always show 'null' together, which is reasonable, since when a imdb_votes is missing, the imdb_rating is mostly also missing. For all 6 features with missing data, the 1st attempt is to fill in with their mean value."
      ]
    },
    {
      "cell_type": "code",
      "metadata": {
        "id": "6EaMv_68o4sM",
        "colab_type": "code",
        "colab": {}
      },
      "source": [
        "# fill missing values with the column mean\n",
        "newData_i1 = newData.copy()\n",
        "newData_i1['budget'].fillna(newData_i1['budget'].mean(), inplace=True)\n",
        "newData_i1['boxoffice'].fillna(newData_i1['boxoffice'].mean(), inplace=True)\n",
        "newData_i1['metacritic_score'].fillna(newData_i1['metacritic_score'].mean(), inplace=True)\n",
        "newData_i1['star_category'].fillna(newData_i1['star_category'].mean(), inplace=True)\n",
        "newData_i1['imdb_votes'].fillna(newData_i1['imdb_votes'].mean(), inplace=True)\n",
        "newData_i1['imdb_rating'].fillna(newData_i1['imdb_rating'].mean(), inplace=True)"
      ],
      "execution_count": 0,
      "outputs": []
    },
    {
      "cell_type": "markdown",
      "metadata": {
        "id": "ITodcrp4piMV",
        "colab_type": "text"
      },
      "source": [
        "newData_i1 have the feature processing as: fill the missing data in budget, boxoffice, metacritic_score, star_category, imdb_votes, imdb_rating with mean. It will be tested in the upcoming models."
      ]
    },
    {
      "cell_type": "markdown",
      "metadata": {
        "id": "CG7LaXrSpnNw",
        "colab_type": "text"
      },
      "source": [
        "####2.3. Feature scaling\n",
        "The impact of different scaling methods on the model performance is small. In the following model training and selections, the standard scaling (sc) data is used."
      ]
    },
    {
      "cell_type": "code",
      "metadata": {
        "id": "gRH8eN2qp9Xq",
        "colab_type": "code",
        "outputId": "51459fae-c096-477c-af55-c38ba7958251",
        "colab": {
          "base_uri": "https://localhost:8080/"
        }
      },
      "source": [
        "scale_lst = ['weighted_categorical_position', 'weighted_horizontal_poition', 'budget','boxoffice', \n",
        "             'imdb_votes','imdb_rating','duration_in_mins', 'metacritic_score','star_category']\n",
        "newData_sc = newData_i1.copy()\n",
        "\n",
        "sc_scale = preprocessing.StandardScaler().fit(newData_sc[scale_lst])  # use sklearn.preprocessing package\n",
        "newData_sc[scale_lst] = sc_scale.transform(newData_sc[scale_lst])\n",
        "\n",
        "newData_sc.head()"
      ],
      "execution_count": 0,
      "outputs": [
        {
          "output_type": "execute_result",
          "data": {
            "text/html": [
              "<div>\n",
              "<style scoped>\n",
              "    .dataframe tbody tr th:only-of-type {\n",
              "        vertical-align: middle;\n",
              "    }\n",
              "\n",
              "    .dataframe tbody tr th {\n",
              "        vertical-align: top;\n",
              "    }\n",
              "\n",
              "    .dataframe thead th {\n",
              "        text-align: right;\n",
              "    }\n",
              "</style>\n",
              "<table border=\"1\" class=\"dataframe\">\n",
              "  <thead>\n",
              "    <tr style=\"text-align: right;\">\n",
              "      <th></th>\n",
              "      <th>video_id</th>\n",
              "      <th>cvt_per_day</th>\n",
              "      <th>weighted_categorical_position</th>\n",
              "      <th>weighted_horizontal_poition</th>\n",
              "      <th>imdb_votes</th>\n",
              "      <th>budget</th>\n",
              "      <th>boxoffice</th>\n",
              "      <th>imdb_rating</th>\n",
              "      <th>duration_in_mins</th>\n",
              "      <th>metacritic_score</th>\n",
              "      <th>star_category</th>\n",
              "      <th>import_id_lionsgate</th>\n",
              "      <th>import_id_mgm</th>\n",
              "      <th>import_id_other</th>\n",
              "      <th>import_id_paramount</th>\n",
              "      <th>mpaa_G</th>\n",
              "      <th>mpaa_NC-17</th>\n",
              "      <th>mpaa_NotRated</th>\n",
              "      <th>mpaa_PG</th>\n",
              "      <th>mpaa_PG-13</th>\n",
              "      <th>mpaa_R</th>\n",
              "      <th>awards_BAFTA</th>\n",
              "      <th>awards_Golden Globe</th>\n",
              "      <th>awards_Oscar</th>\n",
              "      <th>awards_no award</th>\n",
              "      <th>awards_other award</th>\n",
              "      <th>Action</th>\n",
              "      <th>Adventure</th>\n",
              "      <th>Animation</th>\n",
              "      <th>Comedy</th>\n",
              "      <th>Crime</th>\n",
              "      <th>Documentary</th>\n",
              "      <th>Drama</th>\n",
              "      <th>Fantasy</th>\n",
              "      <th>Foreign/International</th>\n",
              "      <th>Horror</th>\n",
              "      <th>Independent</th>\n",
              "      <th>Kids &amp; Family</th>\n",
              "      <th>Music</th>\n",
              "      <th>Musicals</th>\n",
              "      <th>Mystery</th>\n",
              "      <th>Romance</th>\n",
              "      <th>Sci-Fi</th>\n",
              "      <th>Sport</th>\n",
              "      <th>Thriller</th>\n",
              "      <th>War</th>\n",
              "      <th>Western</th>\n",
              "      <th>Misc_gen</th>\n",
              "      <th>1916-1974</th>\n",
              "      <th>1974-1991</th>\n",
              "      <th>1991-2001</th>\n",
              "      <th>2001-2006</th>\n",
              "      <th>2006-2008</th>\n",
              "      <th>2008-2010</th>\n",
              "      <th>2010-2012</th>\n",
              "      <th>2012-2013</th>\n",
              "      <th>2013-2014</th>\n",
              "      <th>2014-2017</th>\n",
              "    </tr>\n",
              "  </thead>\n",
              "  <tbody>\n",
              "    <tr>\n",
              "      <th>0</th>\n",
              "      <td>385504</td>\n",
              "      <td>307127.606</td>\n",
              "      <td>-1.106</td>\n",
              "      <td>-2.116</td>\n",
              "      <td>1.984</td>\n",
              "      <td>1.470</td>\n",
              "      <td>4.696</td>\n",
              "      <td>0.542</td>\n",
              "      <td>1.079</td>\n",
              "      <td>-0.630</td>\n",
              "      <td>0.033</td>\n",
              "      <td>1</td>\n",
              "      <td>0</td>\n",
              "      <td>0</td>\n",
              "      <td>0</td>\n",
              "      <td>0</td>\n",
              "      <td>0</td>\n",
              "      <td>0</td>\n",
              "      <td>0</td>\n",
              "      <td>1</td>\n",
              "      <td>0</td>\n",
              "      <td>0</td>\n",
              "      <td>0</td>\n",
              "      <td>0</td>\n",
              "      <td>0</td>\n",
              "      <td>1</td>\n",
              "      <td>1</td>\n",
              "      <td>0</td>\n",
              "      <td>0</td>\n",
              "      <td>0</td>\n",
              "      <td>0</td>\n",
              "      <td>0</td>\n",
              "      <td>1</td>\n",
              "      <td>0</td>\n",
              "      <td>0</td>\n",
              "      <td>0</td>\n",
              "      <td>0</td>\n",
              "      <td>0</td>\n",
              "      <td>0</td>\n",
              "      <td>0</td>\n",
              "      <td>0</td>\n",
              "      <td>0</td>\n",
              "      <td>0</td>\n",
              "      <td>0</td>\n",
              "      <td>1</td>\n",
              "      <td>0</td>\n",
              "      <td>0</td>\n",
              "      <td>0</td>\n",
              "      <td>0</td>\n",
              "      <td>0</td>\n",
              "      <td>0</td>\n",
              "      <td>0</td>\n",
              "      <td>0</td>\n",
              "      <td>0</td>\n",
              "      <td>0</td>\n",
              "      <td>1</td>\n",
              "      <td>0</td>\n",
              "      <td>0</td>\n",
              "    </tr>\n",
              "    <tr>\n",
              "      <th>1</th>\n",
              "      <td>300175</td>\n",
              "      <td>270338.426</td>\n",
              "      <td>-1.106</td>\n",
              "      <td>-2.116</td>\n",
              "      <td>1.258</td>\n",
              "      <td>1.470</td>\n",
              "      <td>-1.022</td>\n",
              "      <td>0.542</td>\n",
              "      <td>0.257</td>\n",
              "      <td>-1.997</td>\n",
              "      <td>3.434</td>\n",
              "      <td>1</td>\n",
              "      <td>0</td>\n",
              "      <td>0</td>\n",
              "      <td>0</td>\n",
              "      <td>0</td>\n",
              "      <td>0</td>\n",
              "      <td>0</td>\n",
              "      <td>0</td>\n",
              "      <td>0</td>\n",
              "      <td>1</td>\n",
              "      <td>0</td>\n",
              "      <td>0</td>\n",
              "      <td>0</td>\n",
              "      <td>1</td>\n",
              "      <td>0</td>\n",
              "      <td>0</td>\n",
              "      <td>0</td>\n",
              "      <td>0</td>\n",
              "      <td>1</td>\n",
              "      <td>1</td>\n",
              "      <td>0</td>\n",
              "      <td>0</td>\n",
              "      <td>0</td>\n",
              "      <td>0</td>\n",
              "      <td>0</td>\n",
              "      <td>0</td>\n",
              "      <td>0</td>\n",
              "      <td>0</td>\n",
              "      <td>0</td>\n",
              "      <td>0</td>\n",
              "      <td>0</td>\n",
              "      <td>0</td>\n",
              "      <td>0</td>\n",
              "      <td>1</td>\n",
              "      <td>0</td>\n",
              "      <td>0</td>\n",
              "      <td>0</td>\n",
              "      <td>0</td>\n",
              "      <td>0</td>\n",
              "      <td>0</td>\n",
              "      <td>0</td>\n",
              "      <td>0</td>\n",
              "      <td>0</td>\n",
              "      <td>0</td>\n",
              "      <td>1</td>\n",
              "      <td>0</td>\n",
              "      <td>0</td>\n",
              "    </tr>\n",
              "    <tr>\n",
              "      <th>2</th>\n",
              "      <td>361899</td>\n",
              "      <td>256165.867</td>\n",
              "      <td>-1.106</td>\n",
              "      <td>-2.116</td>\n",
              "      <td>6.043</td>\n",
              "      <td>3.108</td>\n",
              "      <td>3.898</td>\n",
              "      <td>1.100</td>\n",
              "      <td>1.243</td>\n",
              "      <td>0.327</td>\n",
              "      <td>2.102</td>\n",
              "      <td>0</td>\n",
              "      <td>0</td>\n",
              "      <td>1</td>\n",
              "      <td>0</td>\n",
              "      <td>0</td>\n",
              "      <td>0</td>\n",
              "      <td>0</td>\n",
              "      <td>0</td>\n",
              "      <td>0</td>\n",
              "      <td>1</td>\n",
              "      <td>0</td>\n",
              "      <td>0</td>\n",
              "      <td>0</td>\n",
              "      <td>0</td>\n",
              "      <td>1</td>\n",
              "      <td>0</td>\n",
              "      <td>0</td>\n",
              "      <td>0</td>\n",
              "      <td>0</td>\n",
              "      <td>1</td>\n",
              "      <td>0</td>\n",
              "      <td>1</td>\n",
              "      <td>0</td>\n",
              "      <td>0</td>\n",
              "      <td>0</td>\n",
              "      <td>0</td>\n",
              "      <td>0</td>\n",
              "      <td>0</td>\n",
              "      <td>0</td>\n",
              "      <td>0</td>\n",
              "      <td>0</td>\n",
              "      <td>0</td>\n",
              "      <td>0</td>\n",
              "      <td>0</td>\n",
              "      <td>0</td>\n",
              "      <td>0</td>\n",
              "      <td>0</td>\n",
              "      <td>0</td>\n",
              "      <td>0</td>\n",
              "      <td>0</td>\n",
              "      <td>0</td>\n",
              "      <td>0</td>\n",
              "      <td>0</td>\n",
              "      <td>1</td>\n",
              "      <td>0</td>\n",
              "      <td>0</td>\n",
              "      <td>0</td>\n",
              "    </tr>\n",
              "    <tr>\n",
              "      <th>3</th>\n",
              "      <td>308314</td>\n",
              "      <td>196622.721</td>\n",
              "      <td>-0.780</td>\n",
              "      <td>-2.032</td>\n",
              "      <td>11.077</td>\n",
              "      <td>1.470</td>\n",
              "      <td>0.767</td>\n",
              "      <td>1.309</td>\n",
              "      <td>1.952</td>\n",
              "      <td>5.250</td>\n",
              "      <td>-0.063</td>\n",
              "      <td>1</td>\n",
              "      <td>0</td>\n",
              "      <td>0</td>\n",
              "      <td>0</td>\n",
              "      <td>0</td>\n",
              "      <td>0</td>\n",
              "      <td>0</td>\n",
              "      <td>0</td>\n",
              "      <td>0</td>\n",
              "      <td>1</td>\n",
              "      <td>0</td>\n",
              "      <td>0</td>\n",
              "      <td>1</td>\n",
              "      <td>0</td>\n",
              "      <td>0</td>\n",
              "      <td>1</td>\n",
              "      <td>0</td>\n",
              "      <td>0</td>\n",
              "      <td>0</td>\n",
              "      <td>0</td>\n",
              "      <td>1</td>\n",
              "      <td>1</td>\n",
              "      <td>0</td>\n",
              "      <td>0</td>\n",
              "      <td>0</td>\n",
              "      <td>0</td>\n",
              "      <td>0</td>\n",
              "      <td>0</td>\n",
              "      <td>0</td>\n",
              "      <td>1</td>\n",
              "      <td>0</td>\n",
              "      <td>0</td>\n",
              "      <td>0</td>\n",
              "      <td>1</td>\n",
              "      <td>1</td>\n",
              "      <td>0</td>\n",
              "      <td>0</td>\n",
              "      <td>0</td>\n",
              "      <td>0</td>\n",
              "      <td>0</td>\n",
              "      <td>0</td>\n",
              "      <td>1</td>\n",
              "      <td>0</td>\n",
              "      <td>0</td>\n",
              "      <td>0</td>\n",
              "      <td>0</td>\n",
              "      <td>0</td>\n",
              "    </tr>\n",
              "    <tr>\n",
              "      <th>4</th>\n",
              "      <td>307201</td>\n",
              "      <td>159841.652</td>\n",
              "      <td>-1.106</td>\n",
              "      <td>-2.116</td>\n",
              "      <td>1.258</td>\n",
              "      <td>3.290</td>\n",
              "      <td>-0.265</td>\n",
              "      <td>0.472</td>\n",
              "      <td>0.758</td>\n",
              "      <td>-2.544</td>\n",
              "      <td>3.029</td>\n",
              "      <td>1</td>\n",
              "      <td>0</td>\n",
              "      <td>0</td>\n",
              "      <td>0</td>\n",
              "      <td>0</td>\n",
              "      <td>0</td>\n",
              "      <td>0</td>\n",
              "      <td>0</td>\n",
              "      <td>0</td>\n",
              "      <td>1</td>\n",
              "      <td>0</td>\n",
              "      <td>0</td>\n",
              "      <td>0</td>\n",
              "      <td>0</td>\n",
              "      <td>1</td>\n",
              "      <td>0</td>\n",
              "      <td>0</td>\n",
              "      <td>0</td>\n",
              "      <td>0</td>\n",
              "      <td>1</td>\n",
              "      <td>1</td>\n",
              "      <td>0</td>\n",
              "      <td>0</td>\n",
              "      <td>0</td>\n",
              "      <td>0</td>\n",
              "      <td>0</td>\n",
              "      <td>0</td>\n",
              "      <td>0</td>\n",
              "      <td>0</td>\n",
              "      <td>1</td>\n",
              "      <td>0</td>\n",
              "      <td>0</td>\n",
              "      <td>0</td>\n",
              "      <td>1</td>\n",
              "      <td>0</td>\n",
              "      <td>0</td>\n",
              "      <td>0</td>\n",
              "      <td>0</td>\n",
              "      <td>0</td>\n",
              "      <td>0</td>\n",
              "      <td>0</td>\n",
              "      <td>0</td>\n",
              "      <td>0</td>\n",
              "      <td>0</td>\n",
              "      <td>1</td>\n",
              "      <td>0</td>\n",
              "      <td>0</td>\n",
              "    </tr>\n",
              "  </tbody>\n",
              "</table>\n",
              "</div>"
            ],
            "text/plain": [
              "   video_id  cvt_per_day  ...  2013-2014  2014-2017\n",
              "0    385504   307127.606  ...          0          0\n",
              "1    300175   270338.426  ...          0          0\n",
              "2    361899   256165.867  ...          0          0\n",
              "3    308314   196622.721  ...          0          0\n",
              "4    307201   159841.652  ...          0          0\n",
              "\n",
              "[5 rows x 58 columns]"
            ]
          },
          "metadata": {
            "tags": []
          },
          "execution_count": 31
        }
      ]
    },
    {
      "cell_type": "code",
      "metadata": {
        "id": "E7C63YzqrXNO",
        "colab_type": "code",
        "colab": {}
      },
      "source": [
        "# MinMax scaling\n",
        "newData_mm = newData_i1.copy()\n",
        "mm_scale = preprocessing.MinMaxScaler().fit(newData_mm[scale_lst])  # from sklearn preprocessing package\n",
        "newData_mm[scale_lst] = mm_scale.transform(newData_mm[scale_lst])"
      ],
      "execution_count": 0,
      "outputs": []
    },
    {
      "cell_type": "code",
      "metadata": {
        "id": "JF74yksk9HfS",
        "colab_type": "code",
        "colab": {}
      },
      "source": [
        "# Robust scaling\n",
        "newData_rs = newData_i1.copy()\n",
        "rs_scale = preprocessing.RobustScaler().fit(newData_mm[scale_lst])\n",
        "newData_rs[scale_lst] = rs_scale.transform(newData_rs[scale_lst])"
      ],
      "execution_count": 0,
      "outputs": []
    },
    {
      "cell_type": "markdown",
      "metadata": {
        "id": "47VTETa89fvF",
        "colab_type": "text"
      },
      "source": [
        "###3. Model Training\n",
        "85% of the samples will be used to train all the models, and 15% is reserved for test the models in next section."
      ]
    },
    {
      "cell_type": "code",
      "metadata": {
        "id": "bXOsa9Gz9mDd",
        "colab_type": "code",
        "colab": {}
      },
      "source": [
        "# The 15% test data will kept aside, they won't be seen by the models until final test/comparison.\n",
        "\n",
        "model_train, model_test = train_test_split(newData_sc, test_size=0.15, random_state = 3)  ## from sklearn.model_selection import train_test_split\n",
        "model_train_x = model_train.drop(['video_id', 'cvt_per_day'], axis = 1)\n",
        "model_test_x = model_test.drop(['video_id', 'cvt_per_day'], axis = 1)\n",
        "model_train_y = model_train['cvt_per_day']\n",
        "model_test_y = model_test['cvt_per_day']"
      ],
      "execution_count": 0,
      "outputs": []
    },
    {
      "cell_type": "markdown",
      "metadata": {
        "id": "IjG2cQSu_qu0",
        "colab_type": "text"
      },
      "source": [
        "###3.1. Linear models"
      ]
    },
    {
      "cell_type": "markdown",
      "metadata": {
        "id": "6_QdvGCv_ulS",
        "colab_type": "text"
      },
      "source": [
        "####3.1.1. Lasso linear regression\n",
        "1) All features are linear: LASSO"
      ]
    },
    {
      "cell_type": "code",
      "metadata": {
        "id": "sXxLqoKXBdUb",
        "colab_type": "code",
        "outputId": "aac98e13-cfa6-4550-fa2d-ba3d3c316ea8",
        "colab": {
          "base_uri": "https://localhost:8080/",
          "height": 312
        }
      },
      "source": [
        "from sklearn.model_selection import train_test_split\n",
        "from sklearn.linear_model import LinearRegression, Lasso, Ridge\n",
        "from sklearn.metrics import mean_squared_error, r2_score\n",
        "from math import sqrt\n",
        "lr_train, lr_validate = train_test_split(model_train, test_size=0.15, random_state = 0)   ## the random_state is like the seed in R\n",
        "lr_train_x = lr_train.drop(['video_id', 'cvt_per_day'], axis = 1)\n",
        "lr_validate_x = lr_validate.drop(['video_id', 'cvt_per_day'], axis = 1)\n",
        "lr_train_y = lr_train['cvt_per_day']\n",
        "lr_validate_y = lr_validate['cvt_per_day']\n",
        "\n",
        "alphas = np.logspace (-0.3, 2.5, num=150)  # alphas ranges from 10^(-0.3) to 10^2.5, which is from 0.5 to 316\n",
        "# alphas= [0.000000001]\n",
        "scores = np.empty_like(alphas)\n",
        "opt_a = float('-inf')            ## the float(inf) or float(-inf) need to be specified in a comparison for loop, e.g. greatest, smallest\n",
        "max_score = float('-inf')\n",
        "for i, a in enumerate(alphas):\n",
        "    lasso = Lasso()\n",
        "    lasso.set_params(alpha = a)\n",
        "    lasso.fit(lr_train_x, lr_train_y)\n",
        "    scores[i] = lasso.score(lr_validate_x, lr_validate_y)    #Returns the coefficient of determination R^2 of the prediction.\n",
        "    if scores[i] > max_score:\n",
        "        max_score = scores[i]\n",
        "        opt_a = a\n",
        "        lasso_save = lasso\n",
        "plt.plot(alphas, scores, color='b', linestyle='dashed', marker='o',markerfacecolor='blue', markersize=6)\n",
        "plt.xlabel('alpha')\n",
        "plt.ylabel('score')\n",
        "plt.grid(True)\n",
        "plt.title('score vs. alpha')\n",
        "plt.show()\n",
        "print ('The optimaized alpha and score of Lasso linear is: ', opt_a, max_score)"
      ],
      "execution_count": 0,
      "outputs": [
        {
          "output_type": "display_data",
          "data": {
            "image/png": "[encoded data removed]",
            "text/plain": [
              "<Figure size 432x288 with 1 Axes>"
            ]
          },
          "metadata": {
            "tags": []
          }
        },
        {
          "output_type": "stream",
          "text": [
            "The optimaized alpha and score of Lasso linear is:  122.06107238906554 0.36457853302954246\n"
          ],
          "name": "stdout"
        }
      ]
    },
    {
      "cell_type": "code",
      "metadata": {
        "id": "XJyg1evptTqV",
        "colab_type": "code",
        "outputId": "9edd57bb-2dc8-42b0-f8ce-9310581b4f9e",
        "colab": {
          "base_uri": "https://localhost:8080/",
          "height": 69
        }
      },
      "source": [
        "# combine the validate data and training data, use the optimal alpha, re-train the model\n",
        "lasso_f = Lasso()\n",
        "lasso_f.set_params(alpha = opt_a)\n",
        "lasso_f.fit(model_train_x, model_train_y)\n",
        "\n",
        "# lasso_f is the Lasso model (linear feature), to be tested with final test data."
      ],
      "execution_count": 0,
      "outputs": [
        {
          "output_type": "execute_result",
          "data": {
            "text/plain": [
              "Lasso(alpha=122.06107238906554, copy_X=True, fit_intercept=True, max_iter=1000,\n",
              "      normalize=False, positive=False, precompute=False, random_state=None,\n",
              "      selection='cyclic', tol=0.0001, warm_start=False)"
            ]
          },
          "metadata": {
            "tags": []
          },
          "execution_count": 43
        }
      ]
    },
    {
      "cell_type": "markdown",
      "metadata": {
        "id": "qzUGjZL9uXhU",
        "colab_type": "text"
      },
      "source": [
        "2) Polynomial features"
      ]
    },
    {
      "cell_type": "code",
      "metadata": {
        "id": "r8Add5IbucLf",
        "colab_type": "code",
        "outputId": "b5a4332e-23be-4997-91ef-1089ca9f5ec2",
        "colab": {
          "base_uri": "https://localhost:8080/",
          "height": 1000
        }
      },
      "source": [
        "from sklearn.preprocessing import PolynomialFeatures\n",
        "\n",
        "poly = PolynomialFeatures(2)\n",
        "\n",
        "lr_train, lr_validate = train_test_split(model_train, test_size=0.15, random_state = 0)\n",
        "\n",
        "lr_train_x = lr_train.drop(['video_id', 'cvt_per_day'], axis = 1)\n",
        "lr_validate_x = lr_validate.drop(['video_id', 'cvt_per_day'], axis = 1)\n",
        "\n",
        "lr_train_xp = poly.fit_transform(lr_train_x)\n",
        "lr_validate_xp = poly.fit_transform(lr_validate_x)\n",
        "lr_train_y = lr_train['cvt_per_day']\n",
        "lr_validate_y = lr_validate['cvt_per_day']\n",
        "\n",
        "# lr_train_xp = pd.DataFrame(data=lr_train_xp, index=data[:], columns=data[0,1:]) \n",
        "\n",
        "alphas = np.logspace (-2.6, 2.5, num=80)\n",
        "# alphas= [1]\n",
        "scores = np.empty_like(alphas)\n",
        "opt_a = float('-inf')\n",
        "max_score = float('-inf')\n",
        "for i, a in enumerate(alphas):\n",
        "    lasso = Lasso()\n",
        "    lasso.set_params(alpha = a)\n",
        "    lasso.fit(lr_train_xp, lr_train_y)\n",
        "    scores[i] = lasso.score(lr_validate_xp, lr_validate_y)\n",
        "    if scores[i] > max_score:\n",
        "        max_score = scores[i]\n",
        "        opt_a = a\n",
        "        lasso_save = lasso\n",
        "        \n",
        "plt.plot(alphas, scores, color='b', linestyle='dashed', marker='o',markerfacecolor='blue', markersize=6)\n",
        "plt.xlabel('alpha')\n",
        "plt.ylabel('score')\n",
        "plt.grid(True)\n",
        "plt.title('score vs. alpha')\n",
        "plt.show()\n",
        "print ('The optimaized alpha and score of Lasso polynomial is: ', opt_a, max_score)\n",
        "\n",
        "# combine the validate data and training data, use the optimal alpha, re-train the model\n",
        "lr_train_xp1 = poly.fit_transform(model_train_x)\n",
        "\n",
        "lasso_fp = Lasso()\n",
        "lasso_fp.set_params(alpha = opt_a)\n",
        "lasso_fp.fit(lr_train_xp1, model_train_y)\n",
        "\n",
        "# lasso_fp is the Lasso model (polynomial feature), to be tested with test data."
      ],
      "execution_count": 0,
      "outputs": [
        {
          "output_type": "stream",
          "text": [
            "/usr/local/lib/python3.6/dist-packages/sklearn/linear_model/coordinate_descent.py:475: ConvergenceWarning: Objective did not converge. You might want to increase the number of iterations. Duality gap: 32955562904.809734, tolerance: 48022560.445868425\n",
            "  positive)\n",
            "/usr/local/lib/python3.6/dist-packages/sklearn/linear_model/coordinate_descent.py:475: ConvergenceWarning: Objective did not converge. You might want to increase the number of iterations. Duality gap: 32961858347.0376, tolerance: 48022560.445868425\n",
            "  positive)\n",
            "/usr/local/lib/python3.6/dist-packages/sklearn/linear_model/coordinate_descent.py:475: ConvergenceWarning: Objective did not converge. You might want to increase the number of iterations. Duality gap: 32969156642.67377, tolerance: 48022560.445868425\n",
            "  positive)\n",
            "/usr/local/lib/python3.6/dist-packages/sklearn/linear_model/coordinate_descent.py:475: ConvergenceWarning: Objective did not converge. You might want to increase the number of iterations. Duality gap: 32977598087.14411, tolerance: 48022560.445868425\n",
            "  positive)\n",
            "/usr/local/lib/python3.6/dist-packages/sklearn/linear_model/coordinate_descent.py:475: ConvergenceWarning: Objective did not converge. You might want to increase the number of iterations. Duality gap: 32987329109.451336, tolerance: 48022560.445868425\n",
            "  positive)\n",
            "/usr/local/lib/python3.6/dist-packages/sklearn/linear_model/coordinate_descent.py:475: ConvergenceWarning: Objective did not converge. You might want to increase the number of iterations. Duality gap: 32998560923.76978, tolerance: 48022560.445868425\n",
            "  positive)\n",
            "/usr/local/lib/python3.6/dist-packages/sklearn/linear_model/coordinate_descent.py:475: ConvergenceWarning: Objective did not converge. You might want to increase the number of iterations. Duality gap: 33011523804.15351, tolerance: 48022560.445868425\n",
            "  positive)\n",
            "/usr/local/lib/python3.6/dist-packages/sklearn/linear_model/coordinate_descent.py:475: ConvergenceWarning: Objective did not converge. You might want to increase the number of iterations. Duality gap: 33026449486.511734, tolerance: 48022560.445868425\n",
            "  positive)\n",
            "/usr/local/lib/python3.6/dist-packages/sklearn/linear_model/coordinate_descent.py:475: ConvergenceWarning: Objective did not converge. You might want to increase the number of iterations. Duality gap: 33043601429.18808, tolerance: 48022560.445868425\n",
            "  positive)\n",
            "/usr/local/lib/python3.6/dist-packages/sklearn/linear_model/coordinate_descent.py:475: ConvergenceWarning: Objective did not converge. You might want to increase the number of iterations. Duality gap: 33063299037.277027, tolerance: 48022560.445868425\n",
            "  positive)\n",
            "/usr/local/lib/python3.6/dist-packages/sklearn/linear_model/coordinate_descent.py:475: ConvergenceWarning: Objective did not converge. You might want to increase the number of iterations. Duality gap: 33085866526.22877, tolerance: 48022560.445868425\n",
            "  positive)\n",
            "/usr/local/lib/python3.6/dist-packages/sklearn/linear_model/coordinate_descent.py:475: ConvergenceWarning: Objective did not converge. You might want to increase the number of iterations. Duality gap: 33111782965.887577, tolerance: 48022560.445868425\n",
            "  positive)\n",
            "/usr/local/lib/python3.6/dist-packages/sklearn/linear_model/coordinate_descent.py:475: ConvergenceWarning: Objective did not converge. You might want to increase the number of iterations. Duality gap: 33141619914.426674, tolerance: 48022560.445868425\n",
            "  positive)\n",
            "/usr/local/lib/python3.6/dist-packages/sklearn/linear_model/coordinate_descent.py:475: ConvergenceWarning: Objective did not converge. You might want to increase the number of iterations. Duality gap: 33175792467.598248, tolerance: 48022560.445868425\n",
            "  positive)\n",
            "/usr/local/lib/python3.6/dist-packages/sklearn/linear_model/coordinate_descent.py:475: ConvergenceWarning: Objective did not converge. You might want to increase the number of iterations. Duality gap: 33214790368.475727, tolerance: 48022560.445868425\n",
            "  positive)\n",
            "/usr/local/lib/python3.6/dist-packages/sklearn/linear_model/coordinate_descent.py:475: ConvergenceWarning: Objective did not converge. You might want to increase the number of iterations. Duality gap: 33259459892.943512, tolerance: 48022560.445868425\n",
            "  positive)\n",
            "/usr/local/lib/python3.6/dist-packages/sklearn/linear_model/coordinate_descent.py:475: ConvergenceWarning: Objective did not converge. You might want to increase the number of iterations. Duality gap: 33310971664.375652, tolerance: 48022560.445868425\n",
            "  positive)\n",
            "/usr/local/lib/python3.6/dist-packages/sklearn/linear_model/coordinate_descent.py:475: ConvergenceWarning: Objective did not converge. You might want to increase the number of iterations. Duality gap: 33369905244.073383, tolerance: 48022560.445868425\n",
            "  positive)\n",
            "/usr/local/lib/python3.6/dist-packages/sklearn/linear_model/coordinate_descent.py:475: ConvergenceWarning: Objective did not converge. You might want to increase the number of iterations. Duality gap: 33437107555.19622, tolerance: 48022560.445868425\n",
            "  positive)\n",
            "/usr/local/lib/python3.6/dist-packages/sklearn/linear_model/coordinate_descent.py:475: ConvergenceWarning: Objective did not converge. You might want to increase the number of iterations. Duality gap: 33513918509.15297, tolerance: 48022560.445868425\n",
            "  positive)\n",
            "/usr/local/lib/python3.6/dist-packages/sklearn/linear_model/coordinate_descent.py:475: ConvergenceWarning: Objective did not converge. You might want to increase the number of iterations. Duality gap: 33601468079.551617, tolerance: 48022560.445868425\n",
            "  positive)\n",
            "/usr/local/lib/python3.6/dist-packages/sklearn/linear_model/coordinate_descent.py:475: ConvergenceWarning: Objective did not converge. You might want to increase the number of iterations. Duality gap: 33701073544.77251, tolerance: 48022560.445868425\n",
            "  positive)\n",
            "/usr/local/lib/python3.6/dist-packages/sklearn/linear_model/coordinate_descent.py:475: ConvergenceWarning: Objective did not converge. You might want to increase the number of iterations. Duality gap: 33814309916.76976, tolerance: 48022560.445868425\n",
            "  positive)\n",
            "/usr/local/lib/python3.6/dist-packages/sklearn/linear_model/coordinate_descent.py:475: ConvergenceWarning: Objective did not converge. You might want to increase the number of iterations. Duality gap: 33942449623.78344, tolerance: 48022560.445868425\n",
            "  positive)\n",
            "/usr/local/lib/python3.6/dist-packages/sklearn/linear_model/coordinate_descent.py:475: ConvergenceWarning: Objective did not converge. You might want to increase the number of iterations. Duality gap: 34088645017.63687, tolerance: 48022560.445868425\n",
            "  positive)\n",
            "/usr/local/lib/python3.6/dist-packages/sklearn/linear_model/coordinate_descent.py:475: ConvergenceWarning: Objective did not converge. You might want to increase the number of iterations. Duality gap: 34253110116.65191, tolerance: 48022560.445868425\n",
            "  positive)\n",
            "/usr/local/lib/python3.6/dist-packages/sklearn/linear_model/coordinate_descent.py:475: ConvergenceWarning: Objective did not converge. You might want to increase the number of iterations. Duality gap: 34439063008.740364, tolerance: 48022560.445868425\n",
            "  positive)\n",
            "/usr/local/lib/python3.6/dist-packages/sklearn/linear_model/coordinate_descent.py:475: ConvergenceWarning: Objective did not converge. You might want to increase the number of iterations. Duality gap: 34650258554.102585, tolerance: 48022560.445868425\n",
            "  positive)\n",
            "/usr/local/lib/python3.6/dist-packages/sklearn/linear_model/coordinate_descent.py:475: ConvergenceWarning: Objective did not converge. You might want to increase the number of iterations. Duality gap: 34888166966.64442, tolerance: 48022560.445868425\n",
            "  positive)\n",
            "/usr/local/lib/python3.6/dist-packages/sklearn/linear_model/coordinate_descent.py:475: ConvergenceWarning: Objective did not converge. You might want to increase the number of iterations. Duality gap: 35147147664.22777, tolerance: 48022560.445868425\n",
            "  positive)\n",
            "/usr/local/lib/python3.6/dist-packages/sklearn/linear_model/coordinate_descent.py:475: ConvergenceWarning: Objective did not converge. You might want to increase the number of iterations. Duality gap: 35441125590.85034, tolerance: 48022560.445868425\n",
            "  positive)\n",
            "/usr/local/lib/python3.6/dist-packages/sklearn/linear_model/coordinate_descent.py:475: ConvergenceWarning: Objective did not converge. You might want to increase the number of iterations. Duality gap: 35769002499.51451, tolerance: 48022560.445868425\n",
            "  positive)\n",
            "/usr/local/lib/python3.6/dist-packages/sklearn/linear_model/coordinate_descent.py:475: ConvergenceWarning: Objective did not converge. You might want to increase the number of iterations. Duality gap: 36130305094.560486, tolerance: 48022560.445868425\n",
            "  positive)\n",
            "/usr/local/lib/python3.6/dist-packages/sklearn/linear_model/coordinate_descent.py:475: ConvergenceWarning: Objective did not converge. You might want to increase the number of iterations. Duality gap: 36535744243.5581, tolerance: 48022560.445868425\n",
            "  positive)\n",
            "/usr/local/lib/python3.6/dist-packages/sklearn/linear_model/coordinate_descent.py:475: ConvergenceWarning: Objective did not converge. You might want to increase the number of iterations. Duality gap: 36963110632.62285, tolerance: 48022560.445868425\n",
            "  positive)\n",
            "/usr/local/lib/python3.6/dist-packages/sklearn/linear_model/coordinate_descent.py:475: ConvergenceWarning: Objective did not converge. You might want to increase the number of iterations. Duality gap: 37422687342.28303, tolerance: 48022560.445868425\n",
            "  positive)\n",
            "/usr/local/lib/python3.6/dist-packages/sklearn/linear_model/coordinate_descent.py:475: ConvergenceWarning: Objective did not converge. You might want to increase the number of iterations. Duality gap: 37921358254.72327, tolerance: 48022560.445868425\n",
            "  positive)\n",
            "/usr/local/lib/python3.6/dist-packages/sklearn/linear_model/coordinate_descent.py:475: ConvergenceWarning: Objective did not converge. You might want to increase the number of iterations. Duality gap: 38407451027.46822, tolerance: 48022560.445868425\n",
            "  positive)\n",
            "/usr/local/lib/python3.6/dist-packages/sklearn/linear_model/coordinate_descent.py:475: ConvergenceWarning: Objective did not converge. You might want to increase the number of iterations. Duality gap: 38870908936.319016, tolerance: 48022560.445868425\n",
            "  positive)\n",
            "/usr/local/lib/python3.6/dist-packages/sklearn/linear_model/coordinate_descent.py:475: ConvergenceWarning: Objective did not converge. You might want to increase the number of iterations. Duality gap: 39138804336.77742, tolerance: 48022560.445868425\n",
            "  positive)\n",
            "/usr/local/lib/python3.6/dist-packages/sklearn/linear_model/coordinate_descent.py:475: ConvergenceWarning: Objective did not converge. You might want to increase the number of iterations. Duality gap: 39328018319.40171, tolerance: 48022560.445868425\n",
            "  positive)\n",
            "/usr/local/lib/python3.6/dist-packages/sklearn/linear_model/coordinate_descent.py:475: ConvergenceWarning: Objective did not converge. You might want to increase the number of iterations. Duality gap: 39814887605.197495, tolerance: 48022560.445868425\n",
            "  positive)\n",
            "/usr/local/lib/python3.6/dist-packages/sklearn/linear_model/coordinate_descent.py:475: ConvergenceWarning: Objective did not converge. You might want to increase the number of iterations. Duality gap: 41257760291.409744, tolerance: 48022560.445868425\n",
            "  positive)\n",
            "/usr/local/lib/python3.6/dist-packages/sklearn/linear_model/coordinate_descent.py:475: ConvergenceWarning: Objective did not converge. You might want to increase the number of iterations. Duality gap: 41809989293.53076, tolerance: 48022560.445868425\n",
            "  positive)\n",
            "/usr/local/lib/python3.6/dist-packages/sklearn/linear_model/coordinate_descent.py:475: ConvergenceWarning: Objective did not converge. You might want to increase the number of iterations. Duality gap: 42406247513.03313, tolerance: 48022560.445868425\n",
            "  positive)\n",
            "/usr/local/lib/python3.6/dist-packages/sklearn/linear_model/coordinate_descent.py:475: ConvergenceWarning: Objective did not converge. You might want to increase the number of iterations. Duality gap: 42545306314.74006, tolerance: 48022560.445868425\n",
            "  positive)\n",
            "/usr/local/lib/python3.6/dist-packages/sklearn/linear_model/coordinate_descent.py:475: ConvergenceWarning: Objective did not converge. You might want to increase the number of iterations. Duality gap: 43180959216.92632, tolerance: 48022560.445868425\n",
            "  positive)\n",
            "/usr/local/lib/python3.6/dist-packages/sklearn/linear_model/coordinate_descent.py:475: ConvergenceWarning: Objective did not converge. You might want to increase the number of iterations. Duality gap: 45635064048.31775, tolerance: 48022560.445868425\n",
            "  positive)\n",
            "/usr/local/lib/python3.6/dist-packages/sklearn/linear_model/coordinate_descent.py:475: ConvergenceWarning: Objective did not converge. You might want to increase the number of iterations. Duality gap: 45789801964.70092, tolerance: 48022560.445868425\n",
            "  positive)\n",
            "/usr/local/lib/python3.6/dist-packages/sklearn/linear_model/coordinate_descent.py:475: ConvergenceWarning: Objective did not converge. You might want to increase the number of iterations. Duality gap: 47750312486.02448, tolerance: 48022560.445868425\n",
            "  positive)\n",
            "/usr/local/lib/python3.6/dist-packages/sklearn/linear_model/coordinate_descent.py:475: ConvergenceWarning: Objective did not converge. You might want to increase the number of iterations. Duality gap: 50001295579.584015, tolerance: 48022560.445868425\n",
            "  positive)\n",
            "/usr/local/lib/python3.6/dist-packages/sklearn/linear_model/coordinate_descent.py:475: ConvergenceWarning: Objective did not converge. You might want to increase the number of iterations. Duality gap: 49037516271.114494, tolerance: 48022560.445868425\n",
            "  positive)\n",
            "/usr/local/lib/python3.6/dist-packages/sklearn/linear_model/coordinate_descent.py:475: ConvergenceWarning: Objective did not converge. You might want to increase the number of iterations. Duality gap: 46776006279.503265, tolerance: 48022560.445868425\n",
            "  positive)\n",
            "/usr/local/lib/python3.6/dist-packages/sklearn/linear_model/coordinate_descent.py:475: ConvergenceWarning: Objective did not converge. You might want to increase the number of iterations. Duality gap: 38859212782.37898, tolerance: 48022560.445868425\n",
            "  positive)\n",
            "/usr/local/lib/python3.6/dist-packages/sklearn/linear_model/coordinate_descent.py:475: ConvergenceWarning: Objective did not converge. You might want to increase the number of iterations. Duality gap: 26119419305.355797, tolerance: 48022560.445868425\n",
            "  positive)\n",
            "/usr/local/lib/python3.6/dist-packages/sklearn/linear_model/coordinate_descent.py:475: ConvergenceWarning: Objective did not converge. You might want to increase the number of iterations. Duality gap: 17003570314.351593, tolerance: 48022560.445868425\n",
            "  positive)\n",
            "/usr/local/lib/python3.6/dist-packages/sklearn/linear_model/coordinate_descent.py:475: ConvergenceWarning: Objective did not converge. You might want to increase the number of iterations. Duality gap: 8582628100.4813, tolerance: 48022560.445868425\n",
            "  positive)\n",
            "/usr/local/lib/python3.6/dist-packages/sklearn/linear_model/coordinate_descent.py:475: ConvergenceWarning: Objective did not converge. You might want to increase the number of iterations. Duality gap: 1140996100.59729, tolerance: 48022560.445868425\n",
            "  positive)\n",
            "/usr/local/lib/python3.6/dist-packages/sklearn/linear_model/coordinate_descent.py:475: ConvergenceWarning: Objective did not converge. You might want to increase the number of iterations. Duality gap: 1617706969.9816437, tolerance: 48022560.445868425\n",
            "  positive)\n",
            "/usr/local/lib/python3.6/dist-packages/sklearn/linear_model/coordinate_descent.py:475: ConvergenceWarning: Objective did not converge. You might want to increase the number of iterations. Duality gap: 714546751.15802, tolerance: 48022560.445868425\n",
            "  positive)\n",
            "/usr/local/lib/python3.6/dist-packages/sklearn/linear_model/coordinate_descent.py:475: ConvergenceWarning: Objective did not converge. You might want to increase the number of iterations. Duality gap: 450801734.01109314, tolerance: 48022560.445868425\n",
            "  positive)\n",
            "/usr/local/lib/python3.6/dist-packages/sklearn/linear_model/coordinate_descent.py:475: ConvergenceWarning: Objective did not converge. You might want to increase the number of iterations. Duality gap: 318229632.68492126, tolerance: 48022560.445868425\n",
            "  positive)\n",
            "/usr/local/lib/python3.6/dist-packages/sklearn/linear_model/coordinate_descent.py:475: ConvergenceWarning: Objective did not converge. You might want to increase the number of iterations. Duality gap: 203086025.1144867, tolerance: 48022560.445868425\n",
            "  positive)\n"
          ],
          "name": "stderr"
        },
        {
          "output_type": "display_data",
          "data": {
            "image/png": "[encoded data removed]",
            "text/plain": [
              "<Figure size 432x288 with 1 Axes>"
            ]
          },
          "metadata": {
            "tags": []
          }
        },
        {
          "output_type": "stream",
          "text": [
            "The optimaized alpha and score of Lasso polynomial is:  150.38869469554086 0.5764936326091713\n"
          ],
          "name": "stdout"
        },
        {
          "output_type": "execute_result",
          "data": {
            "text/plain": [
              "Lasso(alpha=150.38869469554086, copy_X=True, fit_intercept=True, max_iter=1000,\n",
              "      normalize=False, positive=False, precompute=False, random_state=None,\n",
              "      selection='cyclic', tol=0.0001, warm_start=False)"
            ]
          },
          "metadata": {
            "tags": []
          },
          "execution_count": 46
        }
      ]
    },
    {
      "cell_type": "markdown",
      "metadata": {
        "id": "PBUl-LsZTM5t",
        "colab_type": "text"
      },
      "source": [
        "####3.1.2. Ridge linear regression\n",
        "\n",
        "1) All features are linear"
      ]
    },
    {
      "cell_type": "code",
      "metadata": {
        "id": "CoYtzcjRTJFS",
        "colab_type": "code",
        "outputId": "0013fb65-89a0-4eae-d501-60cb8023a117",
        "colab": {
          "base_uri": "https://localhost:8080/",
          "height": 312
        }
      },
      "source": [
        "lr_train, lr_validate = train_test_split(model_train, test_size=0.15, random_state = 0)\n",
        "\n",
        "alphas = np.logspace (-10, 3, num=150)\n",
        "# alphas= [0.000000001]\n",
        "scores = np.empty_like(alphas)\n",
        "opt_a = float('-inf')\n",
        "max_score = float('-inf')\n",
        "for i, a in enumerate(alphas):\n",
        "    ridge = Ridge()\n",
        "    ridge.set_params(alpha = a)\n",
        "    ridge.fit(lr_train_x, lr_train_y)\n",
        "    scores[i] = ridge.score(lr_validate_x, lr_validate_y)\n",
        "    if scores[i] > max_score:\n",
        "        max_score = scores[i]\n",
        "        opt_a = a\n",
        "        ridge_save = ridge\n",
        "plt.plot(alphas, scores, color='r', linestyle='dashed', marker='o',markerfacecolor='r', markersize=6)\n",
        "plt.xlabel('alpha')\n",
        "plt.ylabel('score')\n",
        "plt.grid(True)\n",
        "plt.title('score vs. alpha')\n",
        "plt.show()\n",
        "print (max_score, opt_a)\n"
      ],
      "execution_count": 0,
      "outputs": [
        {
          "output_type": "display_data",
          "data": {
            "image/png": "[encoded data removed]",
            "text/plain": [
              "<Figure size 432x288 with 1 Axes>"
            ]
          },
          "metadata": {
            "tags": []
          }
        },
        {
          "output_type": "stream",
          "text": [
            "0.35296043098491625 163.97026580002054\n"
          ],
          "name": "stdout"
        }
      ]
    },
    {
      "cell_type": "code",
      "metadata": {
        "id": "_T_5bIqNYiq7",
        "colab_type": "code",
        "outputId": "b962fdd5-a7a3-49c0-d932-b5ae7d8c7f28",
        "colab": {
          "base_uri": "https://localhost:8080/",
          "height": 51
        }
      },
      "source": [
        "# add the 15% validate data, use the optimal alpha, re-train the model\n",
        "\n",
        "ridge_f = Ridge()\n",
        "ridge_f.set_params(alpha = opt_a)\n",
        "ridge_f.fit(model_train_x, model_train_y)\n",
        "\n",
        "# ridge_f is the Ridge model (linear feature), to be tested with test data."
      ],
      "execution_count": 0,
      "outputs": [
        {
          "output_type": "execute_result",
          "data": {
            "text/plain": [
              "Ridge(alpha=163.97026580002054, copy_X=True, fit_intercept=True, max_iter=None,\n",
              "      normalize=False, random_state=None, solver='auto', tol=0.001)"
            ]
          },
          "metadata": {
            "tags": []
          },
          "execution_count": 50
        }
      ]
    },
    {
      "cell_type": "markdown",
      "metadata": {
        "id": "B7CTNYf4YwX7",
        "colab_type": "text"
      },
      "source": [
        "2) Polynomial features"
      ]
    },
    {
      "cell_type": "code",
      "metadata": {
        "id": "uFCKNEwvY1YU",
        "colab_type": "code",
        "outputId": "537e1e39-462a-44c6-c344-c7352fe4af17",
        "colab": {
          "base_uri": "https://localhost:8080/",
          "height": 312
        }
      },
      "source": [
        "# Use the same training data set as Lasso (polynomial features)\n",
        "from sklearn.preprocessing import PolynomialFeatures\n",
        "poly = PolynomialFeatures(2)\n",
        "\n",
        "lr_train, lr_validate = train_test_split(model_train, test_size=0.15, random_state = 0)\n",
        "\n",
        "lr_train_x = lr_train.drop(['video_id', 'cvt_per_day'], axis = 1)\n",
        "lr_validate_x = lr_validate.drop(['video_id', 'cvt_per_day'], axis = 1)\n",
        "lr_train_y = lr_train['cvt_per_day']\n",
        "lr_validate_y = lr_validate['cvt_per_day']\n",
        "\n",
        "lr_train_xp = poly.fit_transform(lr_train_x)\n",
        "lr_validate_xp = poly.fit_transform(lr_validate_x)\n",
        "\n",
        "alphas = np.logspace (-2, 2, num=20)\n",
        "# alphas= [1]\n",
        "scores = np.empty_like(alphas)\n",
        "opt_a = float('-inf')\n",
        "max_score = float('-inf')\n",
        "for i, a in enumerate(alphas):\n",
        "    ridge = Ridge()\n",
        "    ridge.set_params(alpha = a)\n",
        "    ridge.fit(lr_train_xp, lr_train_y)\n",
        "    scores[i] = ridge.score(lr_validate_xp, lr_validate_y)\n",
        "    if scores[i] > max_score:\n",
        "        max_score = scores[i]\n",
        "        opt_a = a\n",
        "        ridge_save = ridge\n",
        "        \n",
        "plt.plot(alphas, scores, color='brown', linestyle='dashed', marker='o',markerfacecolor='g', markersize=6)\n",
        "plt.xlabel('alpha')\n",
        "plt.ylabel('score')\n",
        "plt.grid(True)\n",
        "plt.title('score vs. alpha')\n",
        "plt.show()\n",
        "print (max_score, opt_a)\n"
      ],
      "execution_count": 0,
      "outputs": [
        {
          "output_type": "display_data",
          "data": {
            "image/png": "[encoded data removed]",
            "text/plain": [
              "<Figure size 432x288 with 1 Axes>"
            ]
          },
          "metadata": {
            "tags": []
          }
        },
        {
          "output_type": "stream",
          "text": [
            "0.468169187001961 14.38449888287663\n"
          ],
          "name": "stdout"
        }
      ]
    },
    {
      "cell_type": "code",
      "metadata": {
        "id": "GBHSSFJpZDOa",
        "colab_type": "code",
        "outputId": "b1145836-13ef-42d9-992e-47ee08de578d",
        "colab": {
          "base_uri": "https://localhost:8080/",
          "height": 51
        }
      },
      "source": [
        "# add the 15% validate data, use the optimal alpha, re-train the model\n",
        "lr_train_xp1 = poly.fit_transform(model_train_x)\n",
        "\n",
        "ridge_fp = Ridge()\n",
        "ridge_fp.set_params(alpha = opt_a)\n",
        "ridge_fp.fit(lr_train_xp1, model_train_y)\n",
        "\n",
        "# ridge_fp is the Ridge model (polynomial feature), to be tested with test data."
      ],
      "execution_count": 0,
      "outputs": [
        {
          "output_type": "execute_result",
          "data": {
            "text/plain": [
              "Ridge(alpha=14.38449888287663, copy_X=True, fit_intercept=True, max_iter=None,\n",
              "      normalize=False, random_state=None, solver='auto', tol=0.001)"
            ]
          },
          "metadata": {
            "tags": []
          },
          "execution_count": 54
        }
      ]
    },
    {
      "cell_type": "markdown",
      "metadata": {
        "id": "PikDe9_VZSZt",
        "colab_type": "text"
      },
      "source": [
        "####3.2. Non-linear model\n",
        "Random forest with Gridsearch cross-validation is used. The 'mean_scores' is used to narrow down the paramenters of n_estimator (number of trees in the forest) and Max_depth (maximum depth of the tree)."
      ]
    },
    {
      "cell_type": "code",
      "metadata": {
        "id": "eKxBPnn1Zbmw",
        "colab_type": "code",
        "outputId": "457fdb5f-efc5-4a32-a873-1f0bae5fcf98",
        "colab": {
          "base_uri": "https://localhost:8080/",
          "height": 329
        }
      },
      "source": [
        "from sklearn.ensemble import RandomForestRegressor\n",
        "#from sklearn.cross_validation import cross_val_score\n",
        "from sklearn.model_selection import cross_validate\n",
        "# from sklearn.grid_search import GridSearchCV\n",
        "from sklearn.model_selection import GridSearchCV\n",
        "\n",
        "rf_train, rf_test = train_test_split(model_train, test_size=0.15, random_state = 0)\n",
        "\n",
        "rf_train_x = rf_train.drop(['video_id', 'cvt_per_day'], axis = 1)\n",
        "rf_test_x = rf_test.drop(['video_id', 'cvt_per_day'], axis = 1)\n",
        "rf_train_y = rf_train['cvt_per_day']\n",
        "rf_test_y = rf_test['cvt_per_day']\n",
        "\n",
        "param_grid = {\n",
        "                 'n_estimators': [54, 55, 56, 57, 58, 59, 60, 62],\n",
        "                 'max_depth': [12, 13, 14, 15, 16, 17]\n",
        "             }  ###n_estimators : integer, optional (default=10), The number of trees in the forest.\n",
        "\n",
        "## max_depth : integer or None, optional (default=None) The maximum depth of the tree. If None, then nodes are expanded until all leaves are pure or until all leaves contain less than min_samples_split samples.\n",
        "\n",
        "rf = RandomForestRegressor(random_state=2, max_features = 'sqrt')\n",
        "grid_rf = GridSearchCV(rf, param_grid, cv=5)   # cv is the cross-validation splitting strategy, e.g. three-fold, cv = 3\n",
        "grid_rf.fit(rf_train_x, rf_train_y)"
      ],
      "execution_count": 0,
      "outputs": [
        {
          "output_type": "execute_result",
          "data": {
            "text/plain": [
              "GridSearchCV(cv=5, error_score='raise-deprecating',\n",
              "             estimator=RandomForestRegressor(bootstrap=True, criterion='mse',\n",
              "                                             max_depth=None,\n",
              "                                             max_features='sqrt',\n",
              "                                             max_leaf_nodes=None,\n",
              "                                             min_impurity_decrease=0.0,\n",
              "                                             min_impurity_split=None,\n",
              "                                             min_samples_leaf=1,\n",
              "                                             min_samples_split=2,\n",
              "                                             min_weight_fraction_leaf=0.0,\n",
              "                                             n_estimators='warn', n_jobs=None,\n",
              "                                             oob_score=False, random_state=2,\n",
              "                                             verbose=0, warm_start=False),\n",
              "             iid='warn', n_jobs=None,\n",
              "             param_grid={'max_depth': [12, 13, 14, 15, 16, 17],\n",
              "                         'n_estimators': [54, 55, 56, 57, 58, 59, 60, 62]},\n",
              "             pre_dispatch='2*n_jobs', refit=True, return_train_score=False,\n",
              "             scoring=None, verbose=0)"
            ]
          },
          "metadata": {
            "tags": []
          },
          "execution_count": 56
        }
      ]
    },
    {
      "cell_type": "code",
      "metadata": {
        "id": "22T_nY-ter3y",
        "colab_type": "code",
        "outputId": "0cfca9d1-c43a-4bf4-bbd5-e1b875f7f83d",
        "colab": {
          "base_uri": "https://localhost:8080/",
          "height": 34
        }
      },
      "source": [
        "grid_rf.best_params_ "
      ],
      "execution_count": 0,
      "outputs": [
        {
          "output_type": "execute_result",
          "data": {
            "text/plain": [
              "{'max_depth': 14, 'n_estimators': 55}"
            ]
          },
          "metadata": {
            "tags": []
          },
          "execution_count": 57
        }
      ]
    },
    {
      "cell_type": "code",
      "metadata": {
        "id": "s5M6E0VgfvK2",
        "colab_type": "code",
        "outputId": "9cfde325-46bc-42db-ef54-919abb1d0086",
        "colab": {
          "base_uri": "https://localhost:8080/",
          "height": 1000
        }
      },
      "source": [
        "grid_rf.cv_results_"
      ],
      "execution_count": 0,
      "outputs": [
        {
          "output_type": "execute_result",
          "data": {
            "text/plain": [
              "{'mean_fit_time': array([0.15495429, 0.15058961, 0.15895233, 0.16037588, 0.16082082,\n",
              "        0.16392331, 0.16498213, 0.17133856, 0.15906601, 0.16013327,\n",
              "        0.16613593, 0.173628  , 0.17282677, 0.17484894, 0.18144093,\n",
              "        0.18456073, 0.16805129, 0.17286091, 0.17826972, 0.18364925,\n",
              "        0.18490472, 0.18693628, 0.1889039 , 0.19499226, 0.18431659,\n",
              "        0.18521361, 0.18638649, 0.19164524, 0.19620605, 0.1980751 ,\n",
              "        0.20145559, 0.21037545, 0.19271178, 0.1949369 , 0.2021894 ,\n",
              "        0.20026336, 0.20522399, 0.21248021, 0.21457887, 0.21663308,\n",
              "        0.19721308, 0.20059805, 0.20689569, 0.21168728, 0.21310539,\n",
              "        0.22444429, 0.22317538, 0.22667017]),\n",
              " 'mean_score_time': array([0.00865655, 0.0087183 , 0.00906892, 0.00904999, 0.0091197 ,\n",
              "        0.00933614, 0.00930572, 0.00951462, 0.0088573 , 0.00862174,\n",
              "        0.00957012, 0.00952945, 0.0099247 , 0.00940371, 0.00984778,\n",
              "        0.01012449, 0.00915389, 0.009727  , 0.01040211, 0.01104507,\n",
              "        0.01053085, 0.01067066, 0.01066136, 0.0108387 , 0.01034126,\n",
              "        0.01170506, 0.01055508, 0.01110377, 0.01084266, 0.01154761,\n",
              "        0.01135631, 0.0116221 , 0.01109266, 0.01112776, 0.01041994,\n",
              "        0.01114712, 0.0116292 , 0.01231322, 0.01193943, 0.01191063,\n",
              "        0.01117454, 0.01129956, 0.01181154, 0.0130507 , 0.01197   ,\n",
              "        0.01255646, 0.01220908, 0.01279054]),\n",
              " 'mean_test_score': array([0.50354354, 0.50648825, 0.50748105, 0.50530691, 0.50613395,\n",
              "        0.50619143, 0.50748772, 0.5062556 , 0.48517784, 0.48860964,\n",
              "        0.49046229, 0.48902967, 0.49157366, 0.49063146, 0.49245031,\n",
              "        0.492094  , 0.52479391, 0.52690504, 0.52562018, 0.52330835,\n",
              "        0.52647408, 0.52566523, 0.52489772, 0.52296564, 0.50235369,\n",
              "        0.50438515, 0.50536706, 0.50556561, 0.50750608, 0.50591027,\n",
              "        0.50765712, 0.50540307, 0.52017453, 0.52254815, 0.52401442,\n",
              "        0.51891516, 0.51928468, 0.51821977, 0.51927155, 0.5168088 ,\n",
              "        0.51846238, 0.52169729, 0.5218589 , 0.52116122, 0.52268316,\n",
              "        0.5201709 , 0.52319237, 0.52239602]),\n",
              " 'param_max_depth': masked_array(data=[12, 12, 12, 12, 12, 12, 12, 12, 13, 13, 13, 13, 13, 13,\n",
              "                    13, 13, 14, 14, 14, 14, 14, 14, 14, 14, 15, 15, 15, 15,\n",
              "                    15, 15, 15, 15, 16, 16, 16, 16, 16, 16, 16, 16, 17, 17,\n",
              "                    17, 17, 17, 17, 17, 17],\n",
              "              mask=[False, False, False, False, False, False, False, False,\n",
              "                    False, False, False, False, False, False, False, False,\n",
              "                    False, False, False, False, False, False, False, False,\n",
              "                    False, False, False, False, False, False, False, False,\n",
              "                    False, False, False, False, False, False, False, False,\n",
              "                    False, False, False, False, False, False, False, False],\n",
              "        fill_value='?',\n",
              "             dtype=object),\n",
              " 'param_n_estimators': masked_array(data=[54, 55, 56, 57, 58, 59, 60, 62, 54, 55, 56, 57, 58, 59,\n",
              "                    60, 62, 54, 55, 56, 57, 58, 59, 60, 62, 54, 55, 56, 57,\n",
              "                    58, 59, 60, 62, 54, 55, 56, 57, 58, 59, 60, 62, 54, 55,\n",
              "                    56, 57, 58, 59, 60, 62],\n",
              "              mask=[False, False, False, False, False, False, False, False,\n",
              "                    False, False, False, False, False, False, False, False,\n",
              "                    False, False, False, False, False, False, False, False,\n",
              "                    False, False, False, False, False, False, False, False,\n",
              "                    False, False, False, False, False, False, False, False,\n",
              "                    False, False, False, False, False, False, False, False],\n",
              "        fill_value='?',\n",
              "             dtype=object),\n",
              " 'params': [{'max_depth': 12, 'n_estimators': 54},\n",
              "  {'max_depth': 12, 'n_estimators': 55},\n",
              "  {'max_depth': 12, 'n_estimators': 56},\n",
              "  {'max_depth': 12, 'n_estimators': 57},\n",
              "  {'max_depth': 12, 'n_estimators': 58},\n",
              "  {'max_depth': 12, 'n_estimators': 59},\n",
              "  {'max_depth': 12, 'n_estimators': 60},\n",
              "  {'max_depth': 12, 'n_estimators': 62},\n",
              "  {'max_depth': 13, 'n_estimators': 54},\n",
              "  {'max_depth': 13, 'n_estimators': 55},\n",
              "  {'max_depth': 13, 'n_estimators': 56},\n",
              "  {'max_depth': 13, 'n_estimators': 57},\n",
              "  {'max_depth': 13, 'n_estimators': 58},\n",
              "  {'max_depth': 13, 'n_estimators': 59},\n",
              "  {'max_depth': 13, 'n_estimators': 60},\n",
              "  {'max_depth': 13, 'n_estimators': 62},\n",
              "  {'max_depth': 14, 'n_estimators': 54},\n",
              "  {'max_depth': 14, 'n_estimators': 55},\n",
              "  {'max_depth': 14, 'n_estimators': 56},\n",
              "  {'max_depth': 14, 'n_estimators': 57},\n",
              "  {'max_depth': 14, 'n_estimators': 58},\n",
              "  {'max_depth': 14, 'n_estimators': 59},\n",
              "  {'max_depth': 14, 'n_estimators': 60},\n",
              "  {'max_depth': 14, 'n_estimators': 62},\n",
              "  {'max_depth': 15, 'n_estimators': 54},\n",
              "  {'max_depth': 15, 'n_estimators': 55},\n",
              "  {'max_depth': 15, 'n_estimators': 56},\n",
              "  {'max_depth': 15, 'n_estimators': 57},\n",
              "  {'max_depth': 15, 'n_estimators': 58},\n",
              "  {'max_depth': 15, 'n_estimators': 59},\n",
              "  {'max_depth': 15, 'n_estimators': 60},\n",
              "  {'max_depth': 15, 'n_estimators': 62},\n",
              "  {'max_depth': 16, 'n_estimators': 54},\n",
              "  {'max_depth': 16, 'n_estimators': 55},\n",
              "  {'max_depth': 16, 'n_estimators': 56},\n",
              "  {'max_depth': 16, 'n_estimators': 57},\n",
              "  {'max_depth': 16, 'n_estimators': 58},\n",
              "  {'max_depth': 16, 'n_estimators': 59},\n",
              "  {'max_depth': 16, 'n_estimators': 60},\n",
              "  {'max_depth': 16, 'n_estimators': 62},\n",
              "  {'max_depth': 17, 'n_estimators': 54},\n",
              "  {'max_depth': 17, 'n_estimators': 55},\n",
              "  {'max_depth': 17, 'n_estimators': 56},\n",
              "  {'max_depth': 17, 'n_estimators': 57},\n",
              "  {'max_depth': 17, 'n_estimators': 58},\n",
              "  {'max_depth': 17, 'n_estimators': 59},\n",
              "  {'max_depth': 17, 'n_estimators': 60},\n",
              "  {'max_depth': 17, 'n_estimators': 62}],\n",
              " 'rank_test_score': array([39, 29, 28, 37, 32, 31, 27, 30, 48, 47, 45, 46, 43, 44, 41, 42,  6,\n",
              "         1,  4,  8,  2,  3,  5, 10, 40, 38, 36, 34, 26, 33, 25, 35, 17, 12,\n",
              "         7, 21, 19, 23, 20, 24, 22, 15, 14, 16, 11, 18,  9, 13],\n",
              "       dtype=int32),\n",
              " 'split0_test_score': array([0.41091019, 0.41460204, 0.41569636, 0.41124398, 0.41257747,\n",
              "        0.40991806, 0.40968596, 0.41272792, 0.41650166, 0.42059822,\n",
              "        0.42083041, 0.41588   , 0.41829912, 0.41989995, 0.41747902,\n",
              "        0.41869103, 0.4425239 , 0.44651612, 0.44719825, 0.4413099 ,\n",
              "        0.43630906, 0.43419966, 0.43466185, 0.43559708, 0.42610034,\n",
              "        0.43022438, 0.43090521, 0.42553083, 0.42196251, 0.41858602,\n",
              "        0.42264384, 0.42378706, 0.40672481, 0.41075966, 0.40951772,\n",
              "        0.40508268, 0.40261381, 0.40148506, 0.40052841, 0.40309601,\n",
              "        0.41737582, 0.42057979, 0.41980805, 0.41441908, 0.41241307,\n",
              "        0.41556293, 0.42288947, 0.42483265]),\n",
              " 'split1_test_score': array([0.47213596, 0.47711668, 0.47853794, 0.47625357, 0.47341285,\n",
              "        0.47272935, 0.47133764, 0.47105432, 0.38925271, 0.39569685,\n",
              "        0.39915325, 0.39927539, 0.40064402, 0.39831288, 0.40272653,\n",
              "        0.40948828, 0.42907518, 0.43378807, 0.43183974, 0.42847566,\n",
              "        0.43079863, 0.42937462, 0.43035056, 0.42853169, 0.45138712,\n",
              "        0.45408057, 0.45034214, 0.44638168, 0.45065481, 0.45320442,\n",
              "        0.44316499, 0.44375185, 0.45561251, 0.45922855, 0.46205322,\n",
              "        0.45292806, 0.45647113, 0.45667513, 0.45796629, 0.4556212 ,\n",
              "        0.39209401, 0.39944293, 0.39991268, 0.39889916, 0.40438883,\n",
              "        0.39485336, 0.3953633 , 0.39757842]),\n",
              " 'split2_test_score': array([0.69193217, 0.69520126, 0.69413024, 0.69583032, 0.70162354,\n",
              "        0.69832329, 0.70051276, 0.69958153, 0.68480005, 0.69114925,\n",
              "        0.68514958, 0.6915537 , 0.69434088, 0.69048043, 0.68882871,\n",
              "        0.68848884, 0.70075424, 0.70523424, 0.70679214, 0.70490718,\n",
              "        0.70874407, 0.70518691, 0.70439884, 0.70536552, 0.67143577,\n",
              "        0.67693881, 0.67818421, 0.68106063, 0.68579551, 0.6853866 ,\n",
              "        0.68828796, 0.68803907, 0.68133601, 0.68782708, 0.68681181,\n",
              "        0.68336433, 0.6870866 , 0.68777488, 0.68755439, 0.68854225,\n",
              "        0.72062324, 0.72548605, 0.72611326, 0.72992049, 0.73280887,\n",
              "        0.72910064, 0.72898968, 0.73255819]),\n",
              " 'split3_test_score': array([0.4750176 , 0.47985275, 0.47938924, 0.47466127, 0.47449464,\n",
              "        0.47808905, 0.47805222, 0.47720401, 0.48110622, 0.48697355,\n",
              "        0.49552844, 0.49525478, 0.4952215 , 0.4931718 , 0.49167384,\n",
              "        0.49236904, 0.4775298 , 0.48089038, 0.48080802, 0.48174086,\n",
              "        0.49264344, 0.49312172, 0.49282294, 0.49497746, 0.50177467,\n",
              "        0.50404394, 0.50761645, 0.50970844, 0.50867416, 0.50721021,\n",
              "        0.51086027, 0.5102531 , 0.50296285, 0.50857986, 0.50983629,\n",
              "        0.50862113, 0.50584971, 0.50403528, 0.50290224, 0.5010198 ,\n",
              "        0.52031923, 0.52585425, 0.524705  , 0.52284711, 0.52195567,\n",
              "        0.5179622 , 0.51561341, 0.51403464]),\n",
              " 'split4_test_score': array([0.46761628, 0.46555792, 0.46954343, 0.46843491, 0.4684478 ,\n",
              "        0.47179512, 0.47775318, 0.47060433, 0.45417115, 0.44856213,\n",
              "        0.45159442, 0.44311952, 0.44929957, 0.45123191, 0.46149149,\n",
              "        0.45136661, 0.57408973, 0.5680885 , 0.56144805, 0.56010031,\n",
              "        0.56388103, 0.56645672, 0.56226306, 0.55035547, 0.46100194,\n",
              "        0.45655924, 0.45971627, 0.46508701, 0.47038455, 0.46509945,\n",
              "        0.47327751, 0.46111974, 0.55426411, 0.5463617 , 0.55187544,\n",
              "        0.54460479, 0.5444213 , 0.54114281, 0.54742573, 0.53576992,\n",
              "        0.54194108, 0.53715554, 0.53878789, 0.53975343, 0.54187959,\n",
              "        0.54340978, 0.55314259, 0.54299624]),\n",
              " 'std_fit_time': array([0.00542035, 0.0019462 , 0.00871828, 0.00328809, 0.0011693 ,\n",
              "        0.00207941, 0.00187996, 0.00245516, 0.00086882, 0.00146762,\n",
              "        0.00193751, 0.00580792, 0.00191295, 0.00216275, 0.00639613,\n",
              "        0.00262368, 0.00183448, 0.00527778, 0.00144368, 0.00697791,\n",
              "        0.00122724, 0.00198529, 0.00213922, 0.00166339, 0.00803345,\n",
              "        0.00406888, 0.00145776, 0.0028553 , 0.00385284, 0.00076466,\n",
              "        0.00079346, 0.00522803, 0.00170368, 0.00153361, 0.01385242,\n",
              "        0.00225132, 0.00152809, 0.00439881, 0.00387665, 0.00316324,\n",
              "        0.0025604 , 0.0016567 , 0.00231129, 0.00372244, 0.00188168,\n",
              "        0.00942533, 0.001885  , 0.0017876 ]),\n",
              " 'std_score_time': array([1.35102567e-04, 9.33568004e-05, 4.02451420e-04, 2.12211158e-04,\n",
              "        1.72447511e-04, 9.89864556e-05, 2.65859487e-04, 2.12153120e-04,\n",
              "        1.80554842e-04, 3.77071006e-04, 2.20837955e-04, 1.85097879e-04,\n",
              "        1.80982248e-04, 5.40905039e-04, 4.39664898e-04, 2.01559095e-04,\n",
              "        3.59406828e-04, 6.50616703e-04, 4.55265770e-04, 7.68926681e-04,\n",
              "        2.16094088e-04, 2.70211547e-04, 3.14603953e-04, 2.34484128e-04,\n",
              "        1.86865151e-04, 2.19439539e-03, 1.13387765e-04, 6.59930234e-04,\n",
              "        2.61246394e-04, 1.06253767e-03, 1.94492484e-04, 3.18599010e-04,\n",
              "        3.54370831e-04, 3.32207127e-04, 4.78349685e-04, 5.87225756e-04,\n",
              "        1.55105577e-04, 8.13153478e-04, 1.34272856e-04, 1.28960819e-04,\n",
              "        1.21093414e-04, 2.13348711e-04, 3.06810916e-04, 2.40954418e-03,\n",
              "        2.25002544e-04, 3.52590097e-04, 2.30847678e-04, 5.75464748e-04]),\n",
              " 'std_test_score': array([0.09714895, 0.09729357, 0.09628621, 0.09830328, 0.10048885,\n",
              "        0.09930239, 0.09991104, 0.0995042 , 0.10467027, 0.10575547,\n",
              "        0.10262302, 0.10639805, 0.10638271, 0.10493574, 0.10317738,\n",
              "        0.10244322, 0.10157025, 0.1007719 , 0.10108202, 0.10178949,\n",
              "        0.10303422, 0.10258546, 0.10174203, 0.10137596, 0.08801565,\n",
              "        0.0895713 , 0.09005583, 0.09207337, 0.09353357, 0.09413679,\n",
              "        0.09511454, 0.09573844, 0.09433685, 0.09445985, 0.09429362,\n",
              "        0.0950262 , 0.0964952 , 0.09687091, 0.0972288 , 0.09675264,\n",
              "        0.11632244, 0.11575873, 0.11605464, 0.11858862, 0.11892904,\n",
              "        0.11907089, 0.11811184, 0.11815698])}"
            ]
          },
          "metadata": {
            "tags": []
          },
          "execution_count": 59
        }
      ]
    },
    {
      "cell_type": "code",
      "metadata": {
        "id": "egiQr9FFgqCx",
        "colab_type": "code",
        "outputId": "1f34cf0b-12e4-4ce8-ac53-87940c207cc0",
        "colab": {
          "base_uri": "https://localhost:8080/",
          "height": 283
        }
      },
      "source": [
        "# plot the effect of different number of trees and maximum tree-depth during cross validation \n",
        "scores = grid_rf.cv_results_['mean_test_score']\n",
        "\n",
        "n_est = [54, 55, 56, 57, 58, 59, 60, 62]\n",
        "m_depth=[12, 13, 14, 15, 16, 17]\n",
        "scores = np.array(scores).reshape(len(m_depth), len(n_est))   ##change 'scores' to array, then change to a matrix\n",
        "fig = plt.figure()\n",
        "ax = plt.subplot(111)\n",
        "for ind, i in enumerate(m_depth):\n",
        "    plt.plot(n_est, scores[ind], '-o', label='n estimator.' + str(i),)\n",
        "    \n",
        "ax.legend(loc='center left', bbox_to_anchor=(1, 0.5))\n",
        "plt.xlabel('Max depth')\n",
        "plt.ylabel('Mean score')\n",
        "plt.grid(True)\n",
        "plt.show()\n",
        "# savefig('rf_1')"
      ],
      "execution_count": 0,
      "outputs": [
        {
          "output_type": "display_data",
          "data": {
            "image/png": "[encoded data removed]",
            "text/plain": [
              "<Figure size 432x288 with 1 Axes>"
            ]
          },
          "metadata": {
            "tags": []
          }
        }
      ]
    },
    {
      "cell_type": "code",
      "metadata": {
        "id": "wQVHONr9k6iS",
        "colab_type": "code",
        "outputId": "85c41955-12d0-4249-dafd-057a54990b5d",
        "colab": {
          "base_uri": "https://localhost:8080/",
          "height": 138
        }
      },
      "source": [
        "# add both training and validation data together as the new training data\n",
        "rf = RandomForestRegressor(random_state=2, max_features = 'sqrt', max_depth= 14, n_estimators=55)\n",
        "rf.fit(model_train_x, model_train_y)"
      ],
      "execution_count": 0,
      "outputs": [
        {
          "output_type": "execute_result",
          "data": {
            "text/plain": [
              "RandomForestRegressor(bootstrap=True, criterion='mse', max_depth=14,\n",
              "                      max_features='sqrt', max_leaf_nodes=None,\n",
              "                      min_impurity_decrease=0.0, min_impurity_split=None,\n",
              "                      min_samples_leaf=1, min_samples_split=2,\n",
              "                      min_weight_fraction_leaf=0.0, n_estimators=55,\n",
              "                      n_jobs=None, oob_score=False, random_state=2, verbose=0,\n",
              "                      warm_start=False)"
            ]
          },
          "metadata": {
            "tags": []
          },
          "execution_count": 62
        }
      ]
    },
    {
      "cell_type": "markdown",
      "metadata": {
        "id": "C1wiPbQRoYR-",
        "colab_type": "text"
      },
      "source": [
        "From GridSearchCV cross validation results, the best rf model is n_estimator = 14, and max_depth = 55"
      ]
    },
    {
      "cell_type": "markdown",
      "metadata": {
        "id": "pOStOkvco53V",
        "colab_type": "text"
      },
      "source": [
        "###4. Model Evaluation\n",
        "Test data is the reserved 15% of the whole dataset, and has never been seen by the above models\n",
        "\n",
        "####4.1. Lasso test with linear features (lasso_f)"
      ]
    },
    {
      "cell_type": "markdown",
      "metadata": {
        "id": "B_dER9A3tqg-",
        "colab_type": "text"
      },
      "source": [
        ""
      ]
    },
    {
      "cell_type": "code",
      "metadata": {
        "id": "ziU9vM-Soy8v",
        "colab_type": "code",
        "outputId": "19b80710-a5d0-46d3-b97d-2eb686c8aeca",
        "colab": {
          "base_uri": "https://localhost:8080/",
          "height": 69
        }
      },
      "source": [
        "# Lasso_f test (with linear features)\n",
        "\n",
        "lasso_f_score = lasso_f.score(model_test_x, model_test_y)  #Returns the mean accuracy on the given test data and labels.\n",
        "pred_y = lasso_f.predict(model_test_x)\n",
        "\n",
        "# The mean squared error and root mean square error\n",
        "MSE_lasso_f = mean_squared_error(model_test_y, pred_y)\n",
        "RMSE_lasso_f = sqrt(mean_squared_error(model_test_y, pred_y))\n",
        "\n",
        "print ('lasso_f score: ', lasso_f_score)\n",
        "print ('Mean square error of lasso_f: ', MSE_lasso_f)\n",
        "print ('Root mean squared error of lasso_f:', RMSE_lasso_f)\n",
        "# print ('Coefficients of lasso_f: ', lasso_f.coef_)"
      ],
      "execution_count": 0,
      "outputs": [
        {
          "output_type": "stream",
          "text": [
            "lasso_f score:  0.09954927178753703\n",
            "Mean square error of lasso_f:  238953191.99910036\n",
            "Root mean squared error of lasso_f: 15458.110880670392\n"
          ],
          "name": "stdout"
        }
      ]
    },
    {
      "cell_type": "markdown",
      "metadata": {
        "id": "fUDlOHnt0SsH",
        "colab_type": "text"
      },
      "source": [
        "####4.2. Lasso test with polynomial features (lasso_fp)"
      ]
    },
    {
      "cell_type": "code",
      "metadata": {
        "id": "lCn5ruap0Xva",
        "colab_type": "code",
        "outputId": "bea98c9f-351f-44cc-a633-effe0754b97a",
        "colab": {
          "base_uri": "https://localhost:8080/",
          "height": 69
        }
      },
      "source": [
        "# Lasso_fp test (with polynomial features)\n",
        "model_test_xp = poly.fit_transform(model_test_x)\n",
        "pred_y = lasso_fp.predict(model_test_xp)\n",
        "\n",
        "lasso_fp_score = lasso_fp.score(model_test_xp, model_test_y)\n",
        "MSE_lasso_fp = mean_squared_error(model_test_y, pred_y)\n",
        "RMSE_lasso_fp = sqrt(mean_squared_error(model_test_y, pred_y))\n",
        "\n",
        "print ('lasso_fp score: ', lasso_fp_score)\n",
        "print ('Mean square error of lasso_fp: ', MSE_lasso_fp)\n",
        "print ('Root mean squared error of lasso_fp:', RMSE_lasso_fp)\n",
        "# print ('Coefficients of lasso_fp: ', lasso_fp.coef_)"
      ],
      "execution_count": 0,
      "outputs": [
        {
          "output_type": "stream",
          "text": [
            "lasso_fp score:  -0.08392274794825738\n",
            "Mean square error of lasso_fp:  287641280.5138621\n",
            "Root mean squared error of lasso_fp: 16959.990581184356\n"
          ],
          "name": "stdout"
        }
      ]
    },
    {
      "cell_type": "markdown",
      "metadata": {
        "id": "54prgI9P0k00",
        "colab_type": "text"
      },
      "source": [
        "####4.3. Ridge test with linear features (ridge_f)"
      ]
    },
    {
      "cell_type": "code",
      "metadata": {
        "id": "uxrBuTZr0r0G",
        "colab_type": "code",
        "outputId": "f3000af2-6722-433a-a1db-5b57714f78f7",
        "colab": {
          "base_uri": "https://localhost:8080/",
          "height": 69
        }
      },
      "source": [
        "# ridge_f test (with linear features)\n",
        "\n",
        "ridge_f_score = ridge_f.score(model_test_x, model_test_y)\n",
        "pred_y = ridge_f.predict(model_test_x)\n",
        "\n",
        "# The mean squared error and root mean square error\n",
        "MSE_ridge_f = mean_squared_error(model_test_y, pred_y)\n",
        "RMSE_ridge_f = sqrt(mean_squared_error(model_test_y, pred_y))\n",
        "\n",
        "print ('ridge_f score: ', ridge_f_score)\n",
        "print ('Mean square error of ridge_f: ', MSE_ridge_f)\n",
        "print ('Root mean squared error of ridge_f:', RMSE_ridge_f)\n",
        "# print ('Coefficients of ridge_f: ', ridge_f.coef_)"
      ],
      "execution_count": 0,
      "outputs": [
        {
          "output_type": "stream",
          "text": [
            "ridge_f score:  0.11371374943726809\n",
            "Mean square error of ridge_f:  235194355.4060952\n",
            "Root mean squared error of ridge_f: 15336.047580980414\n"
          ],
          "name": "stdout"
        }
      ]
    },
    {
      "cell_type": "markdown",
      "metadata": {
        "id": "GRYTlVJG09XM",
        "colab_type": "text"
      },
      "source": [
        "####4.4. Ridge test with polynomial features (ridge_fp)"
      ]
    },
    {
      "cell_type": "code",
      "metadata": {
        "id": "iKsaPIP51D3G",
        "colab_type": "code",
        "outputId": "0621de49-0317-4e13-cb7c-47b867f74aed",
        "colab": {
          "base_uri": "https://localhost:8080/",
          "height": 69
        }
      },
      "source": [
        "# ridge_fp test (with polynomial features)\n",
        "model_test_xp = poly.fit_transform(model_test_x)\n",
        "\n",
        "ridge_fp_score = ridge_fp.score(model_test_xp, model_test_y)\n",
        "MSE_ridge_fp = mean_squared_error(model_test_y, pred_y)\n",
        "RMSE_ridge_fp = sqrt(mean_squared_error(model_test_y, pred_y))\n",
        "\n",
        "pred_y = ridge_fp.predict(model_test_xp)\n",
        "print ('ridge_fp score: ', ridge_f_score)\n",
        "print ('Mean square error of ridge_fp: ', MSE_ridge_fp)\n",
        "print ('Root mean squared error of ridge_fp:', RMSE_ridge_fp)\n",
        "#print ('Coefficients of ridge_fp: ', ridge_fp.coef_)"
      ],
      "execution_count": 0,
      "outputs": [
        {
          "output_type": "stream",
          "text": [
            "ridge_fp score:  0.11371374943726809\n",
            "Mean square error of ridge_fp:  235194355.4060952\n",
            "Root mean squared error of ridge_fp: 15336.047580980414\n"
          ],
          "name": "stdout"
        }
      ]
    },
    {
      "cell_type": "markdown",
      "metadata": {
        "id": "go244NRW1NL0",
        "colab_type": "text"
      },
      "source": [
        "####4.5. Random forest test (rf)"
      ]
    },
    {
      "cell_type": "code",
      "metadata": {
        "id": "Q5ywMHx41R1e",
        "colab_type": "code",
        "outputId": "ddf182da-2b8e-46e6-bdbe-b26a6e1fb9df",
        "colab": {
          "base_uri": "https://localhost:8080/",
          "height": 69
        }
      },
      "source": [
        "rf_score = rf.score(model_test_x, model_test_y)\n",
        "\n",
        "pred_y = rf.predict(model_test_x)\n",
        "MSE_rf = mean_squared_error(model_test_y, pred_y)\n",
        "RMSE_rf = sqrt(mean_squared_error(model_test_y, pred_y))\n",
        "\n",
        "# The mean squared error and root mean square error\n",
        "print ('rf score: ', rf_score)\n",
        "print ('Mean square error of rf: ', MSE_rf)\n",
        "print ('Root mean squared error of rf:', RMSE_rf)\n",
        "# print('Coefficients: \\n', ridge_fp.coef_)"
      ],
      "execution_count": 0,
      "outputs": [
        {
          "output_type": "stream",
          "text": [
            "rf score:  0.5165772811589044\n",
            "Mean square error of rf:  128286199.49175872\n",
            "Root mean squared error of rf: 11326.349786747658\n"
          ],
          "name": "stdout"
        }
      ]
    },
    {
      "cell_type": "markdown",
      "metadata": {
        "id": "2yLE8BqG1ZP-",
        "colab_type": "text"
      },
      "source": [
        "####4.6. Comparison of the 5 models\n",
        "Compared the max_score, mean squared error (MSE), and root mean squared error (RMSE) of 5 models. Random forest model rf returns the beset prediction accuracy."
      ]
    },
    {
      "cell_type": "code",
      "metadata": {
        "id": "fP4HkL0C1f-i",
        "colab_type": "code",
        "outputId": "161964ce-925b-4fdf-b776-7804f04acb69",
        "colab": {
          "base_uri": "https://localhost:8080/",
          "height": 892
        }
      },
      "source": [
        "lst_score = [lasso_f_score, lasso_fp_score, ridge_f_score, ridge_fp_score, rf_score]\n",
        "MSE_lst =  [MSE_lasso_f, MSE_lasso_fp, MSE_ridge_f, MSE_ridge_fp, MSE_rf]\n",
        "RMSE_lst =  [RMSE_lasso_f, RMSE_lasso_fp, RMSE_ridge_f, RMSE_ridge_fp, RMSE_rf]\n",
        "model_lst = ['Lasso_linear','Lasso poly', 'Ridge linear', 'Ridge poly', 'Random forest']\n",
        "\n",
        "plt.figure(1)\n",
        "plt.plot(model_lst, lst_score, 'ro')\n",
        "plt.legend(loc = 9)\n",
        "plt.legend(['R-square / score'])\n",
        "plt.xlabel('model names',fontsize =16)\n",
        "plt.ylabel('score / R-square', fontsize =16)\n",
        "plt.grid(True)\n",
        "plt.show()\n",
        "\n",
        "plt.figure(2)\n",
        "plt.plot(model_lst, MSE_lst, 'g^')\n",
        "plt.legend(loc = 9)\n",
        "plt.legend(['mean square error (MSE)'])\n",
        "plt.xlabel('model names', fontsize =16)\n",
        "plt.ylabel('mean square error', fontsize =16)\n",
        "plt.grid(True)\n",
        "plt.show()\n",
        "\n",
        "plt.figure(3)\n",
        "plt.plot(model_lst, RMSE_lst, 'bs')\n",
        "plt.legend(loc = 9)\n",
        "plt.legend(['root mean square error (RMSE)'])\n",
        "plt.xlabel('model names', fontsize =16)\n",
        "plt.ylabel('root mean square error', fontsize =16)\n",
        "plt.grid(True)\n",
        "plt.show()"
      ],
      "execution_count": 0,
      "outputs": [
        {
          "output_type": "stream",
          "text": [
            "No handles with labels found to put in legend.\n"
          ],
          "name": "stderr"
        },
        {
          "output_type": "display_data",
          "data": {
            "image/png": "[encoded data removed]",
            "text/plain": [
              "<Figure size 432x288 with 1 Axes>"
            ]
          },
          "metadata": {
            "tags": []
          }
        },
        {
          "output_type": "stream",
          "text": [
            "No handles with labels found to put in legend.\n"
          ],
          "name": "stderr"
        },
        {
          "output_type": "display_data",
          "data": {
            "image/png": "[encoded data removed]",
            "text/plain": [
              "<Figure size 432x288 with 1 Axes>"
            ]
          },
          "metadata": {
            "tags": []
          }
        },
        {
          "output_type": "stream",
          "text": [
            "No handles with labels found to put in legend.\n"
          ],
          "name": "stderr"
        },
        {
          "output_type": "display_data",
          "data": {
            "image/png": "[encoded data removed]",
            "text/plain": [
              "<Figure size 432x288 with 1 Axes>"
            ]
          },
          "metadata": {
            "tags": []
          }
        }
      ]
    },
    {
      "cell_type": "markdown",
      "metadata": {
        "id": "ID90TC2v2EKr",
        "colab_type": "text"
      },
      "source": [
        "###5. Feature Importance\n",
        "Random forest(RF) shows the best prediction accuracy. Therefore, the feature importance will be extracted from the RF model."
      ]
    },
    {
      "cell_type": "code",
      "metadata": {
        "id": "Gq7ijgWi2KFF",
        "colab_type": "code",
        "outputId": "6b87cfed-9c69-4c84-d327-88fbfecd092b",
        "colab": {
          "base_uri": "https://localhost:8080/",
          "height": 1000
        }
      },
      "source": [
        "importances = rf.feature_importances_\n",
        "std = np.std([tree.feature_importances_ for tree in rf.estimators_], axis=0)\n",
        "indices = np.argsort(importances)[::-1]\n",
        "feature_name = model_test_x.columns.get_values()\n",
        "\n",
        "# Print the feature ranking\n",
        "print(\"Feature importance ranking:\")\n",
        "\n",
        "for f in range(model_test_x.shape[1]):\n",
        "    print(\"%d. feature %d %s (%f)\" % (f + 1, indices[f],  feature_name[f], importances[indices[f]]))\n",
        "    \n",
        "plt.figure(1)\n",
        "plt.bar(feature_name[:11], importances[indices[:11]])\n",
        "plt.xticks(rotation=90)\n",
        "plt.show()"
      ],
      "execution_count": 0,
      "outputs": [
        {
          "output_type": "stream",
          "text": [
            "Feature importance ranking:\n",
            "1. feature 0 weighted_categorical_position (0.151490)\n",
            "2. feature 2 weighted_horizontal_poition (0.133391)\n",
            "3. feature 1 imdb_votes (0.112314)\n",
            "4. feature 3 budget (0.070595)\n",
            "5. feature 7 boxoffice (0.060027)\n",
            "6. feature 8 imdb_rating (0.051750)\n",
            "7. feature 4 duration_in_mins (0.051296)\n",
            "8. feature 6 metacritic_score (0.039816)\n",
            "9. feature 9 star_category (0.036208)\n",
            "10. feature 11 import_id_lionsgate (0.030517)\n",
            "11. feature 5 import_id_mgm (0.027920)\n",
            "12. feature 10 import_id_other (0.019769)\n",
            "13. feature 53 import_id_paramount (0.019051)\n",
            "14. feature 52 mpaa_G (0.015720)\n",
            "15. feature 18 mpaa_NC-17 (0.013947)\n",
            "16. feature 28 mpaa_NotRated (0.013426)\n",
            "17. feature 49 mpaa_PG (0.010542)\n",
            "18. feature 23 mpaa_PG-13 (0.009500)\n",
            "19. feature 42 mpaa_R (0.009128)\n",
            "20. feature 22 awards_BAFTA (0.007116)\n",
            "21. feature 38 awards_Golden Globe (0.006958)\n",
            "22. feature 30 awards_Oscar (0.006782)\n",
            "23. feature 27 awards_no award (0.006641)\n",
            "24. feature 50 awards_other award (0.006127)\n",
            "25. feature 15 Action (0.005960)\n",
            "26. feature 48 Adventure (0.005511)\n",
            "27. feature 17 Animation (0.005243)\n",
            "28. feature 20 Comedy (0.005233)\n",
            "29. feature 51 Crime (0.004961)\n",
            "30. feature 24 Documentary (0.004575)\n",
            "31. feature 35 Drama (0.004549)\n",
            "32. feature 44 Fantasy (0.004436)\n",
            "33. feature 29 Foreign/International (0.004379)\n",
            "34. feature 21 Horror (0.003938)\n",
            "35. feature 12 Independent (0.003322)\n",
            "36. feature 33 Kids & Family (0.003236)\n",
            "37. feature 54 Music (0.003231)\n",
            "38. feature 39 Musicals (0.003201)\n",
            "39. feature 47 Mystery (0.003161)\n",
            "40. feature 43 Romance (0.003111)\n",
            "41. feature 55 Sci-Fi (0.002742)\n",
            "42. feature 16 Sport (0.002501)\n",
            "43. feature 40 Thriller (0.002481)\n",
            "44. feature 36 War (0.002390)\n",
            "45. feature 46 Western (0.002196)\n",
            "46. feature 26 Misc_gen (0.002150)\n",
            "47. feature 25 1916-1974 (0.002108)\n",
            "48. feature 31 1974-1991 (0.001859)\n",
            "49. feature 41 1991-2001 (0.001483)\n",
            "50. feature 37 2001-2006 (0.000603)\n",
            "51. feature 14 2006-2008 (0.000528)\n",
            "52. feature 34 2008-2010 (0.000485)\n",
            "53. feature 13 2010-2012 (0.000274)\n",
            "54. feature 32 2012-2013 (0.000051)\n",
            "55. feature 19 2013-2014 (0.000046)\n",
            "56. feature 45 2014-2017 (0.000025)\n"
          ],
          "name": "stdout"
        },
        {
          "output_type": "display_data",
          "data": {
            "image/png": "[encoded data removed]",
            "text/plain": [
              "<Figure size 432x288 with 1 Axes>"
            ]
          },
          "metadata": {
            "tags": []
          }
        }
      ]
    }
  ]
}